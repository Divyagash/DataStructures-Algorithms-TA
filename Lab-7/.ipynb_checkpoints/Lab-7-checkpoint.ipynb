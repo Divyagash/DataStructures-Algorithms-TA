{
 "cells": [
  {
   "cell_type": "markdown",
   "metadata": {},
   "source": [
    "# Psuedo Random Number Generation (PRNG)"
   ]
  },
  {
   "cell_type": "code",
   "execution_count": 2,
   "metadata": {
    "collapsed": false
   },
   "outputs": [],
   "source": [
    "import matplotlib.pyplot as plt\n",
    "import numpy as np"
   ]
  },
  {
   "cell_type": "code",
   "execution_count": 3,
   "metadata": {
    "collapsed": true
   },
   "outputs": [],
   "source": [
    "%matplotlib inline"
   ]
  },
  {
   "cell_type": "code",
   "execution_count": 4,
   "metadata": {
    "collapsed": false
   },
   "outputs": [],
   "source": [
    "def midSqaureMethod(seed, rep):\n",
    "    sequence = []\n",
    "    square = seed**2\n",
    "    for i in range(rep):\n",
    "        number = str(square)\n",
    "        number = number.zfill(8)\n",
    "        new = int(number[2:6])\n",
    "        sequence.append(float(new)/10000)\n",
    "        square = new**2\n",
    "    return sequence\n",
    "        \n",
    "        "
   ]
  },
  {
   "cell_type": "markdown",
   "metadata": {},
   "source": [
    "# Checking the uniformity "
   ]
  },
  {
   "cell_type": "code",
   "execution_count": 5,
   "metadata": {
    "collapsed": false
   },
   "outputs": [],
   "source": [
    "Seq1 = midSqaureMethod(4539, 30)"
   ]
  },
  {
   "cell_type": "code",
   "execution_count": 6,
   "metadata": {
    "collapsed": false
   },
   "outputs": [
    {
     "data": {
      "text/plain": [
       "<matplotlib.text.Text at 0x1053c4690>"
      ]
     },
     "execution_count": 6,
     "metadata": {},
     "output_type": "execute_result"
    },
    {
     "data": {
      "image/png": "[encoded data removed]",
      "text/plain": [
       "<matplotlib.figure.Figure at 0x10538ebd0>"
      ]
     },
     "metadata": {},
     "output_type": "display_data"
    }
   ],
   "source": [
    "plt.hist(Seq1)\n",
    "plt.title(\"Histogram random numbers generated by mid-square method\")\n",
    "plt.xlabel(\"Value\")\n",
    "plt.ylabel(\"Frequency\")"
   ]
  },
  {
   "cell_type": "code",
   "execution_count": 8,
   "metadata": {
    "collapsed": false
   },
   "outputs": [
    {
     "data": {
      "text/plain": [
       "[0.6025,\n",
       " 0.3006,\n",
       " 0.036,\n",
       " 0.1296,\n",
       " 0.6796,\n",
       " 0.1856,\n",
       " 0.4447,\n",
       " 0.7758,\n",
       " 0.1865,\n",
       " 0.4782,\n",
       " 0.8675,\n",
       " 0.2556,\n",
       " 0.5331,\n",
       " 0.4195,\n",
       " 0.598,\n",
       " 0.7604,\n",
       " 0.8208,\n",
       " 0.3712,\n",
       " 0.7789,\n",
       " 0.6685,\n",
       " 0.6892,\n",
       " 0.4996,\n",
       " 0.96,\n",
       " 0.16,\n",
       " 0.56,\n",
       " 0.36,\n",
       " 0.96,\n",
       " 0.16,\n",
       " 0.56,\n",
       " 0.36,\n",
       " 0.96,\n",
       " 0.16,\n",
       " 0.56,\n",
       " 0.36,\n",
       " 0.96,\n",
       " 0.16,\n",
       " 0.56,\n",
       " 0.36,\n",
       " 0.96,\n",
       " 0.16,\n",
       " 0.56,\n",
       " 0.36,\n",
       " 0.96,\n",
       " 0.16,\n",
       " 0.56,\n",
       " 0.36,\n",
       " 0.96,\n",
       " 0.16,\n",
       " 0.56,\n",
       " 0.36,\n",
       " 0.96,\n",
       " 0.16,\n",
       " 0.56,\n",
       " 0.36,\n",
       " 0.96,\n",
       " 0.16,\n",
       " 0.56,\n",
       " 0.36,\n",
       " 0.96,\n",
       " 0.16,\n",
       " 0.56,\n",
       " 0.36,\n",
       " 0.96,\n",
       " 0.16,\n",
       " 0.56,\n",
       " 0.36,\n",
       " 0.96,\n",
       " 0.16,\n",
       " 0.56,\n",
       " 0.36,\n",
       " 0.96,\n",
       " 0.16,\n",
       " 0.56,\n",
       " 0.36,\n",
       " 0.96,\n",
       " 0.16,\n",
       " 0.56,\n",
       " 0.36,\n",
       " 0.96,\n",
       " 0.16,\n",
       " 0.56,\n",
       " 0.36,\n",
       " 0.96,\n",
       " 0.16,\n",
       " 0.56,\n",
       " 0.36,\n",
       " 0.96,\n",
       " 0.16,\n",
       " 0.56,\n",
       " 0.36,\n",
       " 0.96,\n",
       " 0.16,\n",
       " 0.56,\n",
       " 0.36,\n",
       " 0.96,\n",
       " 0.16,\n",
       " 0.56,\n",
       " 0.36,\n",
       " 0.96,\n",
       " 0.16]"
      ]
     },
     "execution_count": 8,
     "metadata": {},
     "output_type": "execute_result"
    }
   ],
   "source": [
    "midSqaureMethod(4539, 100)"
   ]
  },
  {
   "cell_type": "markdown",
   "metadata": {
    "collapsed": false
   },
   "source": [
    "# Linear Congruential Generators"
   ]
  },
  {
   "cell_type": "code",
   "execution_count": 275,
   "metadata": {
    "collapsed": false
   },
   "outputs": [],
   "source": [
    "def linCongruentialGen(seed, a, c, m, rep):\n",
    "    seq = []\n",
    "    seq.append(seed)\n",
    "    for i in range(1, rep):\n",
    "        new = (a*seq[i-1]+c) % m\n",
    "        seq.append(new)\n",
    "    seq = [x/float(m) for x in seq]\n",
    "    return seq\n",
    "    "
   ]
  },
  {
   "cell_type": "code",
   "execution_count": 276,
   "metadata": {
    "collapsed": false
   },
   "outputs": [],
   "source": [
    "a = linCongruentialGen(232, 23, 2, 2312312, 10000)"
   ]
  },
  {
   "cell_type": "code",
   "execution_count": 277,
   "metadata": {
    "collapsed": false
   },
   "outputs": [
    {
     "data": {
      "text/plain": [
       "<matplotlib.text.Text at 0x206236a10>"
      ]
     },
     "execution_count": 277,
     "metadata": {},
     "output_type": "execute_result"
    },
    {
     "data": {
      "image/png": "[encoded data removed]",
      "text/plain": [
       "<matplotlib.figure.Figure at 0x2061895d0>"
      ]
     },
     "metadata": {},
     "output_type": "display_data"
    }
   ],
   "source": [
    "plt.hist(a)\n",
    "plt.title(\"Histogram random numbers generated by Linear Congruential Generators\")\n",
    "plt.xlabel(\"Value\")\n",
    "plt.ylabel(\"Frequency\")"
   ]
  },
  {
   "cell_type": "code",
   "execution_count": 278,
   "metadata": {
    "collapsed": true
   },
   "outputs": [],
   "source": [
    "b = linCongruentialGen(232, 23, 2, 312, 10000)"
   ]
  },
  {
   "cell_type": "code",
   "execution_count": 279,
   "metadata": {
    "collapsed": false
   },
   "outputs": [
    {
     "data": {
      "text/plain": [
       "<matplotlib.text.Text at 0x206224d90>"
      ]
     },
     "execution_count": 279,
     "metadata": {},
     "output_type": "execute_result"
    },
    {
     "data": {
      "image/png": "[encoded data removed]",
      "text/plain": [
       "<matplotlib.figure.Figure at 0x206270990>"
      ]
     },
     "metadata": {},
     "output_type": "display_data"
    }
   ],
   "source": [
    "plt.hist(b)\n",
    "plt.title(\"Histogram random numbers generated by Linear Congruential Generators\")\n",
    "plt.xlabel(\"Value\")\n",
    "plt.ylabel(\"Frequency\")"
   ]
  },
  {
   "cell_type": "markdown",
   "metadata": {},
   "source": [
    "# Mersenne Twister"
   ]
  },
  {
   "cell_type": "code",
   "execution_count": 196,
   "metadata": {
    "collapsed": false
   },
   "outputs": [],
   "source": [
    "import random\n",
    "import numpy as np\n",
    "import math\n",
    "import itertools\n",
    "import scipy.spatial.distance"
   ]
  },
  {
   "cell_type": "markdown",
   "metadata": {},
   "source": [
    "# Doing some diehard tests"
   ]
  },
  {
   "cell_type": "markdown",
   "metadata": {},
   "source": [
    "### Minimum Distance Test"
   ]
  },
  {
   "cell_type": "code",
   "execution_count": 197,
   "metadata": {
    "collapsed": false
   },
   "outputs": [],
   "source": [
    "distList = []\n",
    "for i in range(100):\n",
    "    seq1 = np.random.uniform(0,10000,8000)\n",
    "    seq2 = np.random.uniform(0,10000,8000)\n",
    "    \n",
    "    combined = np.vstack((seq1, seq2)).T\n",
    "    \n",
    "    a = scipy.spatial.distance.pdist(combined)\n",
    "    \n",
    "    distList.append(min(a))"
   ]
  },
  {
   "cell_type": "code",
   "execution_count": 199,
   "metadata": {
    "collapsed": false
   },
   "outputs": [],
   "source": [
    "u = [a**2 for a in distList]"
   ]
  },
  {
   "cell_type": "code",
   "execution_count": 200,
   "metadata": {
    "collapsed": false
   },
   "outputs": [
    {
     "data": {
      "text/plain": [
       "<matplotlib.text.Text at 0x205bfed10>"
      ]
     },
     "execution_count": 200,
     "metadata": {},
     "output_type": "execute_result"
    },
    {
     "data": {
      "image/png": "[encoded data removed]",
      "text/plain": [
       "<matplotlib.figure.Figure at 0x205c697d0>"
      ]
     },
     "metadata": {},
     "output_type": "display_data"
    }
   ],
   "source": [
    "plt.hist(u)\n",
    "plt.title(\"Distribution from minimum-distance test\")\n",
    "plt.xlabel(\"Value\")\n",
    "plt.ylabel(\"Frequency\")"
   ]
  },
  {
   "cell_type": "markdown",
   "metadata": {},
   "source": [
    "## The Overlapping Sums Test"
   ]
  },
  {
   "cell_type": "code",
   "execution_count": 189,
   "metadata": {
    "collapsed": false
   },
   "outputs": [],
   "source": [
    "seq1 = np.random.uniform(0,1,100000)"
   ]
  },
  {
   "cell_type": "code",
   "execution_count": 190,
   "metadata": {
    "collapsed": true
   },
   "outputs": [],
   "source": [
    "partialSum = []\n",
    "for i in range(20000):\n",
    "    partialSum.append(sum(seq1[i:i+100]))"
   ]
  },
  {
   "cell_type": "code",
   "execution_count": 188,
   "metadata": {
    "collapsed": false
   },
   "outputs": [
    {
     "data": {
      "text/plain": [
       "<matplotlib.text.Text at 0x204e62d10>"
      ]
     },
     "execution_count": 188,
     "metadata": {},
     "output_type": "execute_result"
    },
    {
     "data": {
      "image/png": "[encoded data removed]",
      "text/plain": [
       "<matplotlib.figure.Figure at 0x20348b510>"
      ]
     },
     "metadata": {},
     "output_type": "display_data"
    }
   ],
   "source": [
    "plt.hist(partialSum)\n",
    "plt.title(\"Distribution from overlapping sums test\")\n",
    "plt.xlabel(\"Value\")\n",
    "plt.ylabel(\"Frequency\")"
   ]
  },
  {
   "cell_type": "code",
   "execution_count": null,
   "metadata": {
    "collapsed": true
   },
   "outputs": [],
   "source": []
  },
  {
   "cell_type": "markdown",
   "metadata": {},
   "source": [
    "# Truncation error"
   ]
  },
  {
   "cell_type": "code",
   "execution_count": 202,
   "metadata": {
    "collapsed": false
   },
   "outputs": [],
   "source": [
    "import math"
   ]
  },
  {
   "cell_type": "code",
   "execution_count": 281,
   "metadata": {
    "collapsed": false
   },
   "outputs": [
    {
     "data": {
      "text/plain": [
       "0.0"
      ]
     },
     "execution_count": 281,
     "metadata": {},
     "output_type": "execute_result"
    }
   ],
   "source": [
    "math.sin(0)"
   ]
  },
  {
   "cell_type": "code",
   "execution_count": 219,
   "metadata": {
    "collapsed": true
   },
   "outputs": [],
   "source": [
    "def sinTaylorApprox(x):\n",
    "    out = x - ((x**3)/float(math.factorial(3))) +  ((x**5)/float(math.factorial(5))) - ((x**7)/float(math.factorial(7)))\n",
    "    return(out)"
   ]
  },
  {
   "cell_type": "code",
   "execution_count": 220,
   "metadata": {
    "collapsed": false
   },
   "outputs": [
    {
     "data": {
      "text/plain": [
       "0.841468253968254"
      ]
     },
     "execution_count": 220,
     "metadata": {},
     "output_type": "execute_result"
    }
   ],
   "source": [
    "sinTaylorApprox(1)"
   ]
  },
  {
   "cell_type": "code",
   "execution_count": 221,
   "metadata": {
    "collapsed": false
   },
   "outputs": [
    {
     "data": {
      "text/plain": [
       "0.8414709848078965"
      ]
     },
     "execution_count": 221,
     "metadata": {},
     "output_type": "execute_result"
    }
   ],
   "source": [
    "math.sin(1)"
   ]
  },
  {
   "cell_type": "code",
   "execution_count": 222,
   "metadata": {
    "collapsed": false
   },
   "outputs": [
    {
     "data": {
      "text/plain": [
       "'truncation error is 0.000003'"
      ]
     },
     "execution_count": 222,
     "metadata": {},
     "output_type": "execute_result"
    }
   ],
   "source": [
    "'truncation error is %f' %(abs(math.sin(1) - sinTaylorApprox(1)))"
   ]
  },
  {
   "cell_type": "code",
   "execution_count": null,
   "metadata": {
    "collapsed": true
   },
   "outputs": [],
   "source": []
  },
  {
   "cell_type": "markdown",
   "metadata": {},
   "source": [
    "# Relative Error"
   ]
  },
  {
   "cell_type": "markdown",
   "metadata": {},
   "source": [
    "Say x = 15 and y = $\\sqrt{224}$"
   ]
  },
  {
   "cell_type": "code",
   "execution_count": 240,
   "metadata": {
    "collapsed": true
   },
   "outputs": [],
   "source": [
    "x = 15.0\n",
    "y = 224**0.5"
   ]
  },
  {
   "cell_type": "markdown",
   "metadata": {},
   "source": [
    "x + y"
   ]
  },
  {
   "cell_type": "code",
   "execution_count": 241,
   "metadata": {
    "collapsed": false
   },
   "outputs": [
    {
     "name": "stdout",
     "output_type": "stream",
     "text": [
      "29.9666295471\n"
     ]
    }
   ],
   "source": [
    "xy_sum = x + y\n",
    "print(xy_sum)"
   ]
  },
  {
   "cell_type": "markdown",
   "metadata": {},
   "source": [
    "Let's approximate each value upto 5th decimal point"
   ]
  },
  {
   "cell_type": "code",
   "execution_count": 242,
   "metadata": {
    "collapsed": true
   },
   "outputs": [],
   "source": [
    "x_approx = round(x, 5)\n",
    "y_approx = round(y, 5)"
   ]
  },
  {
   "cell_type": "markdown",
   "metadata": {},
   "source": [
    "## Relative Error in Sum"
   ]
  },
  {
   "cell_type": "code",
   "execution_count": 282,
   "metadata": {
    "collapsed": false
   },
   "outputs": [
    {
     "name": "stdout",
     "output_type": "stream",
     "text": [
      "29.96663\n"
     ]
    }
   ],
   "source": [
    "xy_sum_approx = x_approx + y_approx\n",
    "print(xy_approx)"
   ]
  },
  {
   "cell_type": "code",
   "execution_count": 283,
   "metadata": {
    "collapsed": false
   },
   "outputs": [
    {
     "name": "stdout",
     "output_type": "stream",
     "text": [
      "Absolute error of x 0.000000000\n",
      "Absolute error of y -0.000000453\n"
     ]
    }
   ],
   "source": [
    "print(\"Absolute error of x %0.9f\" %(x - x_approx))\n",
    "print(\"Absolute error of y %0.9f\" %(y - y_approx))"
   ]
  },
  {
   "cell_type": "code",
   "execution_count": 246,
   "metadata": {
    "collapsed": false
   },
   "outputs": [
    {
     "name": "stdout",
     "output_type": "stream",
     "text": [
      "Relative error of x 0.000000000\n",
      "Relative error of y -0.000000030\n"
     ]
    }
   ],
   "source": [
    "print(\"Relative error of x %0.9f\" %((x - x_approx)/x))\n",
    "print(\"Relative error of y %0.9f\" %((y - y_approx)/y))"
   ]
  },
  {
   "cell_type": "code",
   "execution_count": 255,
   "metadata": {
    "collapsed": false
   },
   "outputs": [
    {
     "name": "stdout",
     "output_type": "stream",
     "text": [
      "Absolute error of x + y -0.000000453\n",
      "Relative error of x + y -0.000000015\n"
     ]
    }
   ],
   "source": [
    "print(\"Absolute error of x + y %0.9f\" %(xy_sum - xy_sum_approx))\n",
    "print(\"Relative error of x + y %0.9f\" %((xy_sum - xy_sum_approx)/xy_sum))"
   ]
  },
  {
   "cell_type": "markdown",
   "metadata": {},
   "source": [
    "## Relative Error in Subtraction"
   ]
  },
  {
   "cell_type": "code",
   "execution_count": 256,
   "metadata": {
    "collapsed": true
   },
   "outputs": [],
   "source": [
    "xy_sub = x - y\n",
    "xy_sub_approx = x_approx - y_approx"
   ]
  },
  {
   "cell_type": "code",
   "execution_count": 257,
   "metadata": {
    "collapsed": false
   },
   "outputs": [
    {
     "name": "stdout",
     "output_type": "stream",
     "text": [
      "Absolute error of x - y 0.000000453\n",
      "Relative error of x - y 0.000013572\n"
     ]
    }
   ],
   "source": [
    "print(\"Absolute error of x - y %0.9f\" %(xy_sub - xy_sub_approx))\n",
    "print(\"Relative error of x - y %0.9f\" %((xy_sub - xy_sub_approx)/xy_sub))"
   ]
  },
  {
   "cell_type": "code",
   "execution_count": null,
   "metadata": {
    "collapsed": true
   },
   "outputs": [],
   "source": []
  },
  {
   "cell_type": "markdown",
   "metadata": {},
   "source": [
    "## Relative Error in Product "
   ]
  },
  {
   "cell_type": "code",
   "execution_count": 258,
   "metadata": {
    "collapsed": true
   },
   "outputs": [],
   "source": [
    "xy_prod = x * y\n",
    "xy_prod_approx = x_approx * y_approx"
   ]
  },
  {
   "cell_type": "code",
   "execution_count": 259,
   "metadata": {
    "collapsed": false
   },
   "outputs": [
    {
     "name": "stdout",
     "output_type": "stream",
     "text": [
      "Absolute error of x*y -0.000006794\n",
      "Relative error of x*y -0.000000030\n"
     ]
    }
   ],
   "source": [
    "print(\"Absolute error of x*y %0.9f\" %(xy_prod - xy_prod_approx))\n",
    "print(\"Relative error of x*y %0.9f\" %((xy_prod - xy_prod_approx)/xy_prod))"
   ]
  },
  {
   "cell_type": "code",
   "execution_count": null,
   "metadata": {
    "collapsed": true
   },
   "outputs": [],
   "source": []
  },
  {
   "cell_type": "markdown",
   "metadata": {},
   "source": [
    "## Relative Error in Division"
   ]
  },
  {
   "cell_type": "code",
   "execution_count": 260,
   "metadata": {
    "collapsed": true
   },
   "outputs": [],
   "source": [
    "xy_div = x / y\n",
    "xy_div_approx = x_approx / y_approx"
   ]
  },
  {
   "cell_type": "code",
   "execution_count": 261,
   "metadata": {
    "collapsed": false
   },
   "outputs": [
    {
     "name": "stdout",
     "output_type": "stream",
     "text": [
      "Absolute error of x/y 0.000000030\n",
      "Relative error of x/y 0.000000030\n"
     ]
    }
   ],
   "source": [
    "print(\"Absolute error of x/y %0.9f\" %(xy_div - xy_div_approx))\n",
    "print(\"Relative error of x/y %0.9f\" %((xy_div - xy_div_approx)/xy_div))"
   ]
  },
  {
   "cell_type": "code",
   "execution_count": null,
   "metadata": {
    "collapsed": true
   },
   "outputs": [],
   "source": []
  },
  {
   "cell_type": "code",
   "execution_count": null,
   "metadata": {
    "collapsed": true
   },
   "outputs": [],
   "source": []
  },
  {
   "cell_type": "code",
   "execution_count": null,
   "metadata": {
    "collapsed": true
   },
   "outputs": [],
   "source": []
  }
 ],
 "metadata": {
  "kernelspec": {
   "display_name": "Python 2",
   "language": "python",
   "name": "python2"
  },
  "language_info": {
   "codemirror_mode": {
    "name": "ipython",
    "version": 2
   },
   "file_extension": ".py",
   "mimetype": "text/x-python",
   "name": "python",
   "nbconvert_exporter": "python",
   "pygments_lexer": "ipython2",
   "version": "2.7.11"
  }
 },
 "nbformat": 4,
 "nbformat_minor": 0
}
