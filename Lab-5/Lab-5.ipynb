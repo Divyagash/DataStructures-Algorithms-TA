{
 "cells": [
  {
   "cell_type": "markdown",
   "metadata": {},
   "source": [
    "# Semaphore"
   ]
  },
  {
   "cell_type": "code",
   "execution_count": 3,
   "metadata": {},
   "outputs": [],
   "source": [
    "#!/usr/bin/python\n",
    "import sys\n",
    "import threading\n",
    "import time\n",
    "\n",
    "class Semaphore(object):\n",
    "\n",
    "    def __init__(self, initial):\n",
    "        self.lock = threading.Condition(threading.Lock())\n",
    "        self.value = initial\n",
    "\n",
    "    def up(self):\n",
    "        with self.lock:\n",
    "            self.value += 1\n",
    "            self.lock.notify()\n",
    "\n",
    "    def down(self):\n",
    "        with self.lock:\n",
    "            while self.value == 0:\n",
    "                self.lock.wait()\n",
    "            self.value -= 1\n",
    "\n",
    "\n",
    "if __name__ == \"__main__\":\n",
    "# number of philosophers / chop sticks\n",
    "    n = 5\n",
    "\n",
    "    # butler for deadlock avoidance (n-1 available)\n",
    "    butler = Semaphore(n-1)"
   ]
  },
  {
   "cell_type": "code",
   "execution_count": 4,
   "metadata": {},
   "outputs": [
    {
     "data": {
      "text/plain": [
       "<bound method Semaphore.__init__ of <__main__.Semaphore object at 0x11097e6d8>>"
      ]
     },
     "execution_count": 4,
     "metadata": {},
     "output_type": "execute_result"
    }
   ],
   "source": [
    "Se = Semaphore(5)\n",
    "Se.__init__"
   ]
  },
  {
   "cell_type": "code",
   "execution_count": null,
   "metadata": {},
   "outputs": [],
   "source": []
  },
  {
   "cell_type": "code",
   "execution_count": null,
   "metadata": {},
   "outputs": [],
   "source": []
  },
  {
   "cell_type": "code",
   "execution_count": 5,
   "metadata": {},
   "outputs": [],
   "source": [
    "class iterator:\n",
    "    def __init__(self, max = 0):\n",
    "        self.max = max\n",
    "\n",
    "    def __iter__(self):\n",
    "        self.n = 0\n",
    "        return self\n",
    "\n",
    "    def __next__(self):\n",
    "        if self.n <= self.max:\n",
    "            result = 2 ** self.n\n",
    "            self.n += 1\n",
    "            return result\n",
    "        else:\n",
    "            raise StopIteration\n",
    "\n",
    "\n",
    "if __name__ == \"__main__\":\n",
    "    a = iterator(8)\n",
    "    i = iter(a) # return an iterator object\n",
    "    i.__next__()\n",
    "    i.__next__()"
   ]
  },
  {
   "cell_type": "code",
   "execution_count": 6,
   "metadata": {},
   "outputs": [
    {
     "data": {
      "text/plain": [
       "2"
      ]
     },
     "execution_count": 6,
     "metadata": {},
     "output_type": "execute_result"
    }
   ],
   "source": [
    "a = iterator(8)\n",
    "i = iter(a)\n",
    "i.__next__()\n",
    "i.__next__()"
   ]
  },
  {
   "cell_type": "code",
   "execution_count": 7,
   "metadata": {},
   "outputs": [
    {
     "data": {
      "text/plain": [
       "64"
      ]
     },
     "execution_count": 7,
     "metadata": {},
     "output_type": "execute_result"
    }
   ],
   "source": [
    "a = iterator(8)\n",
    "i = iter(a)\n",
    "i.__next__()\n",
    "i.__next__()\n",
    "i.__next__()\n",
    "i.__next__()\n",
    "i.__next__()\n",
    "i.__next__()\n",
    "i.__next__()"
   ]
  },
  {
   "cell_type": "code",
   "execution_count": 8,
   "metadata": {},
   "outputs": [
    {
     "data": {
      "text/plain": [
       "128"
      ]
     },
     "execution_count": 8,
     "metadata": {},
     "output_type": "execute_result"
    }
   ],
   "source": [
    "i.__next__()"
   ]
  },
  {
   "cell_type": "code",
   "execution_count": null,
   "metadata": {},
   "outputs": [],
   "source": []
  },
  {
   "cell_type": "code",
   "execution_count": 9,
   "metadata": {},
   "outputs": [
    {
     "ename": "SyntaxError",
     "evalue": "Missing parentheses in call to 'print'. Did you mean print(tree.cargo, # parent node)? (<ipython-input-9-5d2ef74c118a>, line 20)",
     "output_type": "error",
     "traceback": [
      "\u001b[0;36m  File \u001b[0;32m\"<ipython-input-9-5d2ef74c118a>\"\u001b[0;36m, line \u001b[0;32m20\u001b[0m\n\u001b[0;31m    print tree.cargo, # parent node\u001b[0m\n\u001b[0m             ^\u001b[0m\n\u001b[0;31mSyntaxError\u001b[0m\u001b[0;31m:\u001b[0m Missing parentheses in call to 'print'. Did you mean print(tree.cargo, # parent node)?\n"
     ]
    }
   ],
   "source": [
    "#!/usr/bin/python\n",
    "\n",
    "# Define a tree class\n",
    "class Tree:\n",
    "    def __init__(self, cargo, left=None, right=None):\n",
    "        self.cargo = cargo\n",
    "        self.left  = left\n",
    "        self.right = right\n",
    "\n",
    "    def __str__(self):\n",
    "        return str(self.cargo)\n",
    "\n",
    "\n",
    "def total_sum(tree):\n",
    "    if tree == None: return 0\n",
    "    return total_sum(tree.left) + total_sum(tree.right) + tree.cargo\n",
    "\n",
    "def print_tree(tree):\n",
    "    if tree == None: return\n",
    "    print tree.cargo, # parent node\n",
    "    print_tree(tree.left) # child left\n",
    "    print_tree(tree.right) # child right\n",
    "\n",
    "\n",
    "if __name__ == \"__main__\":\n",
    "    left = Tree(2)\n",
    "    right = Tree(3)\n",
    "    tree = Tree(1, left, right);"
   ]
  },
  {
   "cell_type": "code",
   "execution_count": 10,
   "metadata": {},
   "outputs": [
    {
     "data": {
      "text/plain": [
       "True"
      ]
     },
     "execution_count": 10,
     "metadata": {},
     "output_type": "execute_result"
    }
   ],
   "source": [
    "__name__ == \"__main__\""
   ]
  },
  {
   "cell_type": "code",
   "execution_count": 35,
   "metadata": {
    "collapsed": true
   },
   "outputs": [],
   "source": []
  },
  {
   "cell_type": "code",
   "execution_count": null,
   "metadata": {},
   "outputs": [],
   "source": []
  },
  {
   "cell_type": "code",
   "execution_count": null,
   "metadata": {
    "collapsed": true
   },
   "outputs": [],
   "source": []
  }
 ],
 "metadata": {
  "kernelspec": {
   "display_name": "Python 3",
   "language": "python",
   "name": "python3"
  },
  "language_info": {
   "codemirror_mode": {
    "name": "ipython",
    "version": 3
   },
   "file_extension": ".py",
   "mimetype": "text/x-python",
   "name": "python",
   "nbconvert_exporter": "python",
   "pygments_lexer": "ipython3",
   "version": "3.6.5"
  }
 },
 "nbformat": 4,
 "nbformat_minor": 1
}
