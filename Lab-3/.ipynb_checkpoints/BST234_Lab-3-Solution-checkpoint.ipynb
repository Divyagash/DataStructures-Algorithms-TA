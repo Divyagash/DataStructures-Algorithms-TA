{
 "cells": [
  {
   "cell_type": "markdown",
   "metadata": {},
   "source": [
    "# Max Heap Implementation"
   ]
  },
  {
   "cell_type": "code",
   "execution_count": 56,
   "metadata": {
    "collapsed": false
   },
   "outputs": [],
   "source": [
    "class MaxHeap(object):\n",
    "    def __init__(self,data=[]):\n",
    "        # constructor - empty array\n",
    "        self.data = data\n",
    "    \n",
    "    def isEmpty(self):\n",
    "        # return true if maxheaph has zero elements\n",
    "        return(len(self.data)==0)\n",
    "    \n",
    "    def getSize(self):\n",
    "        # return number of elements in maxheap\n",
    "        return(len(self.data))\n",
    "        \n",
    "    def clear(self):\n",
    "        # remove all elements of maxheap\n",
    "        self.data=[]\n",
    "        \n",
    "    def printout(self):\n",
    "        # print elements of maxheap\n",
    "        print (self.data)\n",
    "        \n",
    "    def getMax(self):\n",
    "        # return max element of maxHeap\n",
    "        # check that maxHeaph is non-empty\n",
    "        if (not self.isEmpty()):\n",
    "            return(max(self.data))\n",
    "        else:\n",
    "            return None\n",
    "        \n",
    "    #helper method for add(newEntry) and removeMax()\n",
    "    #swap elements so parent node is greater than both its children\n",
    "    #if swap made, call heapify on swapped child\n",
    "    \n",
    "    def heapify(self, parentIndex):\n",
    "        #given parentIndex, find left and right child indices\n",
    "        child1Index = parentIndex*2+1\n",
    "        child2Index = parentIndex*2+2\n",
    "        largest=parentIndex\n",
    "        \n",
    "        # check if left child is larger than parent\n",
    "        if (child1Index < len(self.data)) and (self.data[child1Index] > self.data[parentIndex]):\n",
    "            largest = child1Index\n",
    "        \n",
    "        # check if right child is larger than the max of left child\n",
    "        # and parent\n",
    "        if (child2Index < len(self.data)) and (self.data[child2Index] > self.data[largest]):\n",
    "            largest = child2Index\n",
    "                  \n",
    "        # if either child is greater than parent:\n",
    "            # swap child with parent\n",
    "        if (largest != parentIndex):\n",
    "            self.data[largest], self.data[parentIndex] = self.data[parentIndex], self.data[largest]\n",
    "            self.heapify(largest)\n",
    "            \n",
    "        # call heapify() on subtree\n",
    "        \n",
    "    def buildHeap(self, A):\n",
    "        # build maxheap, calling heapify() on each non-leaf node\n",
    "        self.data = A\n",
    "        for i in range((len(A)-1)//2, -1, -1):\n",
    "            self.heapify(i)\n",
    "            \n",
    "        \n",
    "    def removeMax(self):\n",
    "        # remove root node, call heapify() to recreate maxheap\n",
    "        if (not self.isEmpty()):\n",
    "            maxVal = self.data[0]\n",
    "            \n",
    "            if (len(self.data)>1):\n",
    "                self.data[0] = self.data[len(self.data)-1]\n",
    "                \n",
    "                # remove last element\n",
    "                self.data.pop()\n",
    "                self.heapify(0)\n",
    "                \n",
    "            else:\n",
    "                self.data.pop()\n",
    "            return maxVal\n",
    "        else:\n",
    "            return None\n",
    "        \n",
    "    "
   ]
  },
  {
   "cell_type": "code",
   "execution_count": 73,
   "metadata": {
    "collapsed": false
   },
   "outputs": [],
   "source": [
    "MH = MaxHeap()"
   ]
  },
  {
   "cell_type": "code",
   "execution_count": 74,
   "metadata": {
    "collapsed": false
   },
   "outputs": [],
   "source": [
    "MH.buildHeap([6,9,3,0,10,9,6,18])"
   ]
  },
  {
   "cell_type": "code",
   "execution_count": 75,
   "metadata": {
    "collapsed": false
   },
   "outputs": [
    {
     "data": {
      "text/plain": [
       "18"
      ]
     },
     "execution_count": 75,
     "metadata": {},
     "output_type": "execute_result"
    }
   ],
   "source": [
    "MH.removeMax()"
   ]
  },
  {
   "cell_type": "code",
   "execution_count": 66,
   "metadata": {
    "collapsed": false
   },
   "outputs": [
    {
     "name": "stdout",
     "output_type": "stream",
     "text": [
      "[10, 9, 9, 0, 6, 3, 6]\n"
     ]
    }
   ],
   "source": [
    "MH.printout()"
   ]
  },
  {
   "cell_type": "code",
   "execution_count": 67,
   "metadata": {
    "collapsed": true
   },
   "outputs": [],
   "source": []
  },
  {
   "cell_type": "code",
   "execution_count": null,
   "metadata": {
    "collapsed": false
   },
   "outputs": [],
   "source": []
  },
  {
   "cell_type": "code",
   "execution_count": null,
   "metadata": {
    "collapsed": true
   },
   "outputs": [],
   "source": []
  }
 ],
 "metadata": {
  "kernelspec": {
   "display_name": "Python 2",
   "language": "python",
   "name": "python2"
  },
  "language_info": {
   "codemirror_mode": {
    "name": "ipython",
    "version": 2
   },
   "file_extension": ".py",
   "mimetype": "text/x-python",
   "name": "python",
   "nbconvert_exporter": "python",
   "pygments_lexer": "ipython2",
   "version": "2.7.11"
  }
 },
 "nbformat": 4,
 "nbformat_minor": 0
}
