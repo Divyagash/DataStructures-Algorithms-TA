{
 "cells": [
  {
   "cell_type": "markdown",
   "metadata": {},
   "source": [
    "# Max Heap Implementation"
   ]
  },
  {
   "cell_type": "code",
   "execution_count": 2,
   "metadata": {},
   "outputs": [],
   "source": [
    "class MaxHeap(object):\n",
    "    def __init__(self,data=[]):\n",
    "        # constructor - empty array\n",
    "        self.data = data\n",
    "    \n",
    "    def isEmpty(self):\n",
    "        # return true if maxheaph has zero elements\n",
    "        return(len(self.data)==0)\n",
    "    \n",
    "    def getSize(self):\n",
    "        # return number of elements in maxheap \n",
    "        return (len(self.data))\n",
    "        \n",
    "    def clear(self):\n",
    "        # remove all elements of maxheap\n",
    "        self.data = []\n",
    "        \n",
    "    def printout(self):\n",
    "        # print elements of maxheap\n",
    "        print(self.data)\n",
    "        \n",
    "    def getMax(self):\n",
    "        # return max element of maxHeap\n",
    "        # check that maxHeaph is non-empty\n",
    "        if (not self.isEmpty()):\n",
    "            return(max(self.data))\n",
    "        else:\n",
    "            return None\n",
    "        \n",
    "    #helper method for add(newEntry) and removeMax()\n",
    "    #swap elements so parent node is greater than both its children\n",
    "    #if swap made, call heapify on swapped child\n",
    "    \n",
    "    def heapify(self, parentIndex):\n",
    "        #given parentIndex, find left and right child indices\n",
    "        child1Index = parentIndex*2+1\n",
    "        child2Index = parentIndex*2+2\n",
    "        largest=parentIndex\n",
    "        \n",
    "        # check if left child is larger than parent\n",
    "        if (child1Index < len(self.data) and self.data[child1Index] > self.data[largest]):\n",
    "            largest = child1Index\n",
    "        \n",
    "        # check if right child is larger than the max of left child\n",
    "        # and parent\n",
    "        if (child2Index < len(self.data) and self.data[child2Index] > self.data[largest]):\n",
    "            largest = child2Index\n",
    "        \n",
    "        # if either child is greater than parent:\n",
    "            # swap child with parent\n",
    "        if (largest != parentIndex):\n",
    "            self.data[largest], self.data[parentIndex] = self.data[parentIndex], self.data[largest]\n",
    "            \n",
    "            # call heapify() on subtree\n",
    "        self.heapify(largest)\n",
    "        \n",
    "    def buildHeap(self, A):\n",
    "        # build maxheap, calling heapify() on each non-leaf node\n",
    "        pass\n",
    "        \n",
    "        \n",
    "        \n",
    "    def removeMax(self):\n",
    "        # remove root node, call heapify() to recreate maxheap\n",
    "        pass\n",
    "    \n",
    "    \n",
    "    \n",
    "    \n",
    "    \n",
    "\n",
    "    "
   ]
  },
  {
   "cell_type": "code",
   "execution_count": null,
   "metadata": {},
   "outputs": [],
   "source": []
  }
 ],
 "metadata": {
  "kernelspec": {
   "display_name": "Python 3",
   "language": "python",
   "name": "python3"
  },
  "language_info": {
   "codemirror_mode": {
    "name": "ipython",
    "version": 3
   },
   "file_extension": ".py",
   "mimetype": "text/x-python",
   "name": "python",
   "nbconvert_exporter": "python",
   "pygments_lexer": "ipython3",
   "version": "3.6.5"
  }
 },
 "nbformat": 4,
 "nbformat_minor": 1
}
