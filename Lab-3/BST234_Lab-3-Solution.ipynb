{
 "cells": [
  {
   "cell_type": "markdown",
   "metadata": {},
   "source": [
    "# Max Heap Implementation"
   ]
  },
  {
   "cell_type": "code",
   "execution_count": 1,
   "metadata": {
    "collapsed": false
   },
   "outputs": [],
   "source": [
    "class MaxHeap(object):\n",
    "    def __init__(self,data=[]):\n",
    "        # constructor - empty array\n",
    "        self.data = data\n",
    "    \n",
    "    def isEmpty(self):\n",
    "        # return true if maxheaph has zero elements\n",
    "        return(len(self.data)==0)\n",
    "    \n",
    "    def getSize(self):\n",
    "        # return number of elements in maxheap\n",
    "        return(len(self.data))\n",
    "        \n",
    "    def clear(self):\n",
    "        # remove all elements of maxheap\n",
    "        self.data=[]\n",
    "        \n",
    "    def printout(self):\n",
    "        # print elements of maxheap\n",
    "        print (self.data)\n",
    "        \n",
    "    def getMax(self):\n",
    "        # return max element of maxHeap\n",
    "        # check that maxHeaph is non-empty\n",
    "        if (not self.isEmpty()):\n",
    "            return(max(self.data))\n",
    "        else:\n",
    "            return None\n",
    "        \n",
    "    #helper method for add(newEntry) and removeMax()\n",
    "    #swap elements so parent node is greater than both its children\n",
    "    #if swap made, call heapify on swapped child\n",
    "    \n",
    "    def heapify(self, parentIndex):\n",
    "        #given parentIndex, find left and right child indices\n",
    "        child1Index = parentIndex*2+1\n",
    "        child2Index = parentIndex*2+2\n",
    "        largest=parentIndex\n",
    "        \n",
    "        # check if left child is larger than parent\n",
    "        if (child1Index < len(self.data)) and (self.data[child1Index] > self.data[parentIndex]):\n",
    "            largest = child1Index\n",
    "        \n",
    "        # check if right child is larger than the max of left child\n",
    "        # and parent\n",
    "        if (child2Index < len(self.data)) and (self.data[child2Index] > self.data[largest]):\n",
    "            largest = child2Index\n",
    "                  \n",
    "        # if either child is greater than parent:\n",
    "            # swap child with parent\n",
    "        if (largest != parentIndex):\n",
    "            self.data[largest], self.data[parentIndex] = self.data[parentIndex], self.data[largest]\n",
    "            self.heapify(largest)\n",
    "            \n",
    "        # call heapify() on subtree\n",
    "        \n",
    "    def buildHeap(self, A):\n",
    "        # build maxheap, calling heapify() on each non-leaf node\n",
    "        self.data = A\n",
    "        for i in range((len(A)-1)//2, -1, -1):\n",
    "            self.heapify(i)\n",
    "            \n",
    "        \n",
    "    def removeMax(self):\n",
    "        # remove root node, call heapify() to recreate maxheap\n",
    "        if (not self.isEmpty()):\n",
    "            maxVal = self.data[0]\n",
    "            \n",
    "            if (len(self.data)>1):\n",
    "                self.data[0] = self.data[len(self.data)-1]\n",
    "                \n",
    "                # remove last element\n",
    "                self.data.pop()\n",
    "                self.heapify(0)\n",
    "                \n",
    "            else:\n",
    "                self.data.pop()\n",
    "            return maxVal\n",
    "        else:\n",
    "            return None\n",
    "        \n",
    "    "
   ]
  },
  {
   "cell_type": "code",
   "execution_count": 2,
   "metadata": {
    "collapsed": false
   },
   "outputs": [],
   "source": [
    "MH = MaxHeap()"
   ]
  },
  {
   "cell_type": "code",
   "execution_count": 3,
   "metadata": {
    "collapsed": false
   },
   "outputs": [],
   "source": [
    "MH.buildHeap([6,9,3,0,10,9,6,18])"
   ]
  },
  {
   "cell_type": "code",
   "execution_count": 4,
   "metadata": {
    "collapsed": false
   },
   "outputs": [
    {
     "data": {
      "text/plain": [
       "18"
      ]
     },
     "execution_count": 4,
     "metadata": {},
     "output_type": "execute_result"
    }
   ],
   "source": [
    "MH.removeMax()"
   ]
  },
  {
   "cell_type": "code",
   "execution_count": 5,
   "metadata": {
    "collapsed": false
   },
   "outputs": [
    {
     "name": "stdout",
     "output_type": "stream",
     "text": [
      "[10, 9, 9, 0, 6, 3, 6]\n"
     ]
    }
   ],
   "source": [
    "MH.printout()"
   ]
  },
  {
   "cell_type": "code",
   "execution_count": null,
   "metadata": {
    "collapsed": true
   },
   "outputs": [],
   "source": []
  },
  {
   "cell_type": "code",
   "execution_count": 6,
   "metadata": {
    "collapsed": false
   },
   "outputs": [
    {
     "name": "stdout",
     "output_type": "stream",
     "text": [
      "[9.0, 9.0, 9.0, 8.0, 7.0, 7.0, 7.0, 7.0, 7.0, 6.0, 6.0, 6.0, 5.0, 5.0, 5.0, 4.0, 4.0, 4.0, 4.0, 4.0, 4.0, 3.0, 3.0, 3.0, 2.0, 2.0, 1.0, 1.0, 1.0, 1.0]\n"
     ]
    }
   ],
   "source": [
    "import numpy as np\n",
    "\n",
    "def heap_sort(arr):\n",
    "    n = len(arr)\n",
    "    MH = MaxHeap()\n",
    "    sorted_arr = np.repeat(np.nan, n)\n",
    "\n",
    "    for i in range(n):\n",
    "        MH.buildHeap(arr)\n",
    "        sorted_arr[i] = MH.removeMax()\n",
    "\n",
    "    return(list(sorted_arr))\n",
    "\n",
    "arr = list(np.random.randint(low = 1, high = 10, size = 30))\n",
    "print(heap_sort(arr))"
   ]
  },
  {
   "cell_type": "code",
   "execution_count": 7,
   "metadata": {
    "collapsed": false
   },
   "outputs": [
    {
     "data": {
      "text/plain": [
       "[18.0, 10.0, 9.0, 9.0, 6.0, 6.0, 3.0, 0.0]"
      ]
     },
     "execution_count": 7,
     "metadata": {},
     "output_type": "execute_result"
    }
   ],
   "source": [
    "heap_sort([6,9,3,0,10,9,6,18])"
   ]
  },
  {
   "cell_type": "code",
   "execution_count": null,
   "metadata": {
    "collapsed": true
   },
   "outputs": [],
   "source": []
  },
  {
   "cell_type": "code",
   "execution_count": null,
   "metadata": {
    "collapsed": true
   },
   "outputs": [],
   "source": []
  },
  {
   "cell_type": "code",
   "execution_count": null,
   "metadata": {
    "collapsed": true
   },
   "outputs": [],
   "source": []
  },
  {
   "cell_type": "code",
   "execution_count": 50,
   "metadata": {
    "collapsed": false
   },
   "outputs": [
    {
     "name": "stdout",
     "output_type": "stream",
     "text": [
      "[7, 6, 5, 4, 12, 2, 1, 13, 11, 9, 0, 14, 10, 8, 3]\n",
      "[14, 13, 10, 11, 12, 7, 8, 4, 6, 9, 0, 2, 5, 1, 3]\n"
     ]
    },
    {
     "data": {
      "text/plain": [
       "[0, 1, 2, 3, 4, 5, 6, 7, 8, 9, 10, 11, 12, 13, 14]"
      ]
     },
     "execution_count": 50,
     "metadata": {},
     "output_type": "execute_result"
    }
   ],
   "source": [
    "'''\n",
    "define HeapSort\n",
    "'''        \n",
    "def heapSort(MH):\n",
    "    N = MH.getSize()\n",
    "    temp = [0] * N\n",
    "    for i in range(N):\n",
    "        temp[N - i - 1] = MH.removeMax()\n",
    "    return(temp)    \n",
    "    \n",
    "'''\n",
    "test\n",
    "'''\n",
    "import random\n",
    "c = list(range(0, 15))\n",
    "test = random.sample(c, 15)\n",
    "print(test)\n",
    "MH = MaxHeap()\n",
    "MH.buildHeap(test)\n",
    "MH.printout()\n",
    "heapSort(MH)"
   ]
  },
  {
   "cell_type": "code",
   "execution_count": 51,
   "metadata": {
    "collapsed": false
   },
   "outputs": [
    {
     "name": "stdout",
     "output_type": "stream",
     "text": [
      "[18, 9, 10, 6, 0, 9, 9, -3, 3]\n"
     ]
    },
    {
     "data": {
      "text/plain": [
       "[-3, 0, 3, 6, 9, 9, 9, 10, 18]"
      ]
     },
     "execution_count": 51,
     "metadata": {},
     "output_type": "execute_result"
    }
   ],
   "source": [
    "L=[-3,9,9,3,0,10,9,6,18]\n",
    "MH = MaxHeap()\n",
    "MH.buildHeap(L)\n",
    "MH.printout()\n",
    "heapSort(MH)"
   ]
  },
  {
   "cell_type": "code",
   "execution_count": null,
   "metadata": {
    "collapsed": true
   },
   "outputs": [],
   "source": []
  },
  {
   "cell_type": "code",
   "execution_count": null,
   "metadata": {
    "collapsed": true
   },
   "outputs": [],
   "source": []
  },
  {
   "cell_type": "code",
   "execution_count": null,
   "metadata": {
    "collapsed": true
   },
   "outputs": [],
   "source": []
  },
  {
   "cell_type": "code",
   "execution_count": null,
   "metadata": {
    "collapsed": true
   },
   "outputs": [],
   "source": []
  },
  {
   "cell_type": "code",
   "execution_count": 94,
   "metadata": {
    "collapsed": true
   },
   "outputs": [],
   "source": [
    "#!/usr/bin/env python3\n",
    "\n",
    "\n",
    "##    Problem 3 Shaker-sort\n",
    "def shaker(array):\n",
    "        result = array[ : ]\n",
    "        for x in range(len(result)-1, 0, -1):\n",
    "            swap = 0\n",
    "            for i in range(x, 0, -1):\n",
    "                if result[i] < result[i-1]:\n",
    "                    result[i], result[i-1] = result[i-1], result[i]\n",
    "                    swap = 1\n",
    "            for i in range(len(array)-x, x-1):\n",
    "                if result[i] > result[i+1]:\n",
    "                    result[i], result[i+1] = result[i+1], result[i]\n",
    "                    swap = 1\n",
    "            if swap == 0:\n",
    "                return result\n",
    "\n",
    "\n",
    "##    Problem 4 Selection-sort\n",
    "\n",
    "##    det_min is a function used to find the position of the smallest number\n",
    "##    in the array from position n to the end of the array.\n",
    "def det_min(array, n):\n",
    "        p = n\n",
    "        for i in range(n+1, len(array)):\n",
    "            if array[p] > array[i]:\n",
    "                p = i\n",
    "        return p\n",
    "            \n",
    "\n",
    "def selection(array):\n",
    "        result = array[ : ]\n",
    "        for i in range(1, len(array)-1):\n",
    "            p = det_min(result, i)\n",
    "            if result[i-1] > result[p]:\n",
    "                result[i-1], result[p] = result[p], result[i-1]\n",
    "        return result\n"
   ]
  },
  {
   "cell_type": "code",
   "execution_count": 95,
   "metadata": {
    "collapsed": true
   },
   "outputs": [],
   "source": [
    "L = [45,67,34,34,65,78,78,98,6,4,3,45,67,89,-6,9]"
   ]
  },
  {
   "cell_type": "code",
   "execution_count": 96,
   "metadata": {
    "collapsed": false
   },
   "outputs": [
    {
     "data": {
      "text/plain": [
       "[-6, 3, 4, 6, 34, 34, 45, 45, 65, 67, 67, 78, 78, 89, 98, 9]"
      ]
     },
     "execution_count": 96,
     "metadata": {},
     "output_type": "execute_result"
    }
   ],
   "source": [
    "shaker(L)"
   ]
  },
  {
   "cell_type": "code",
   "execution_count": null,
   "metadata": {
    "collapsed": true
   },
   "outputs": [],
   "source": []
  }
 ],
 "metadata": {
  "kernelspec": {
   "display_name": "Python 2",
   "language": "python",
   "name": "python2"
  },
  "language_info": {
   "codemirror_mode": {
    "name": "ipython",
    "version": 2
   },
   "file_extension": ".py",
   "mimetype": "text/x-python",
   "name": "python",
   "nbconvert_exporter": "python",
   "pygments_lexer": "ipython2",
   "version": "2.7.11"
  }
 },
 "nbformat": 4,
 "nbformat_minor": 0
}
