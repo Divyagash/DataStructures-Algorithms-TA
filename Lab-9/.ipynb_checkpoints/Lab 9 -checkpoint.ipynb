{
 "cells": [
  {
   "cell_type": "code",
   "execution_count": 3,
   "metadata": {
    "collapsed": true
   },
   "outputs": [],
   "source": [
    "import numpy as np"
   ]
  },
  {
   "cell_type": "code",
   "execution_count": 213,
   "metadata": {
    "collapsed": true
   },
   "outputs": [],
   "source": [
    "class StableSystemSolver():\n",
    "    def __init__(self,data = []):\n",
    "        # constructor - empty array\n",
    "        self.data = data\n",
    "\n",
    "    \n",
    "    def givensCoeff(self, x,y):\n",
    "        \"\"\"\n",
    "        Calculates c and s for Givens rotation\n",
    "        \"\"\"\n",
    "        if y == 0.0:\n",
    "            return 1.0,0.0\n",
    "        r = np.hypot(x,y) \n",
    "        return x/r, -y/r\n",
    "    \n",
    "    def givensRotation(self, (c,s), A, r1, r2):\n",
    "        ''' Perform Givens rotation for two rows'''\n",
    "        \n",
    "        givensT = np.array([[ c, -s],   # rotation matrix\n",
    "                            [ s,  c]])\n",
    "        A[[r1,r2],:] = np.dot(givensT, A[[r1,r2],:])\n",
    "    \n",
    "    def givens_QR(self, A):\n",
    "        m,n = A.shape\n",
    "        Q = np.eye(m)\n",
    "        for c in xrange(n):\n",
    "            for r in reversed(xrange(c+1, m)):  # m-1, m-2, ... c+2, c+1\n",
    "                # in this row and the previous row, use zeroing givens to\n",
    "                # place a zero in the lower row\n",
    "                coeffs = self.givensCoeff(A[r-1, c], A[r,c])\n",
    "                self.givensRotation(coeffs, A[:, c:], r-1, r) \n",
    "                # left_givensT(coeffs, A[r-1:r+1, c:], 0, 1)\n",
    "                self.givensRotation(coeffs, Q[:, c:], r-1, r)\n",
    "                print Q\n",
    "        return (Q,A)\n",
    "    \n",
    "    \n",
    "    \n"
   ]
  },
  {
   "cell_type": "code",
   "execution_count": 214,
   "metadata": {
    "collapsed": false
   },
   "outputs": [],
   "source": [
    "SSS = StableSystemSolver()"
   ]
  },
  {
   "cell_type": "code",
   "execution_count": 215,
   "metadata": {
    "collapsed": false
   },
   "outputs": [
    {
     "data": {
      "text/plain": [
       "array([[ 0.34 ,  0.4  ,  0.3  ,  0.9  ],\n",
       "       [ 0.45 ,  0.25 ,  0.98 ,  0.46 ],\n",
       "       [ 0.923,  0.34 ,  3.   , -2.   ],\n",
       "       [ 0.34 , -0.45 ,  0.1  ,  0.55 ]])"
      ]
     },
     "execution_count": 215,
     "metadata": {},
     "output_type": "execute_result"
    }
   ],
   "source": [
    "#A = np.arange(1.0, 10.0).reshape(3,3)\n",
    "A_mat = np.array([[0.34,0.4,0.3,0.9],[0.45,0.25,0.98,0.46],[0.923,0.34,3,-2],[0.34,-0.45,0.1,0.55]])\n",
    "A_mat"
   ]
  },
  {
   "cell_type": "code",
   "execution_count": 216,
   "metadata": {
    "collapsed": false
   },
   "outputs": [
    {
     "name": "stdout",
     "output_type": "stream",
     "text": [
      "[[ 1.  0.  0.  0.]\n",
      " [ 0.  1.  0.  0.]\n",
      " [ 0.  0.  1.  0.]\n",
      " [ 0.  0.  0.  1.]]\n",
      "[[ 1.  0.  0.  0.]\n",
      " [ 0.  1.  0.  0.]\n",
      " [ 0.  0.  1.  0.]\n",
      " [ 0.  0.  0.  1.]]\n",
      "[[ 1.  0.  0.  0.]\n",
      " [ 0.  1.  0.  0.]\n",
      " [ 0.  0.  1.  0.]\n",
      " [ 0.  0.  0.  1.]]\n",
      "[[ 1.  0.  0.  0.]\n",
      " [ 0.  1.  0.  0.]\n",
      " [ 0.  0.  1.  0.]\n",
      " [ 0.  0.  0.  1.]]\n",
      "[[ 1.  0.  0.  0.]\n",
      " [ 0.  1.  0.  0.]\n",
      " [ 0.  0.  1.  0.]\n",
      " [ 0.  0.  0.  1.]]\n",
      "[[ 1.  0.  0.  0.]\n",
      " [ 0.  1.  0.  0.]\n",
      " [ 0.  0.  1.  0.]\n",
      " [ 0.  0.  0.  1.]]\n",
      "[[ 1.  0.  0.  0.]\n",
      " [ 0.  1.  0.  0.]\n",
      " [ 0.  0.  1.  0.]\n",
      " [ 0.  0.  0.  1.]]\n",
      "[[ 1.13385581  0.36099828  2.95099251 -1.01071052]\n",
      " [ 0.          0.64053122  0.42885775 -0.1368165 ]\n",
      " [ 0.          0.          1.08079798 -2.01973547]\n",
      " [ 0.          0.          0.          0.45223238]]\n"
     ]
    }
   ],
   "source": [
    "Q, R = SSS.givens_QR(A)\n",
    "print Q\n",
    "print R"
   ]
  },
  {
   "cell_type": "code",
   "execution_count": 217,
   "metadata": {
    "collapsed": false
   },
   "outputs": [
    {
     "data": {
      "text/plain": [
       "(array([[-0.29986176, -0.45548197,  0.72189882, -0.4260061 ],\n",
       "        [-0.39687586, -0.16662497,  0.24300203,  0.86929609],\n",
       "        [-0.81403649, -0.07202495, -0.52451613, -0.23883014],\n",
       "        [-0.29986176,  0.87154157,  0.38038788, -0.07617926]]),\n",
       " array([[-1.13385581, -0.36099828, -2.95099251,  1.01071052],\n",
       "        [ 0.        , -0.64053122, -0.42885775,  0.1368165 ],\n",
       "        [ 0.        ,  0.        , -1.08079798,  2.01973547],\n",
       "        [ 0.        ,  0.        ,  0.        ,  0.45223238]]))"
      ]
     },
     "execution_count": 217,
     "metadata": {},
     "output_type": "execute_result"
    }
   ],
   "source": [
    "A_mat = np.array([[0.34,0.4,0.3,0.9],[0.45,0.25,0.98,0.46],[0.923,0.34,3,-2],[0.34,-0.45,0.1,0.55]])\n",
    "nla.qr(A_mat)"
   ]
  },
  {
   "cell_type": "code",
   "execution_count": 221,
   "metadata": {
    "collapsed": false
   },
   "outputs": [],
   "source": [
    "A_mat = np.array([[0.34,0.4,0.3,0.9],[0.45,0.25,0.98,0.46],[0.923,0.34,3,-2],[0.34,-0.45,0.1,0.55]])\n",
    "Q = givens_qr(A_mat)"
   ]
  },
  {
   "cell_type": "code",
   "execution_count": 220,
   "metadata": {
    "collapsed": false
   },
   "outputs": [
    {
     "data": {
      "text/plain": [
       "array([[  1.13385581e+00,   3.60998282e-01,   2.95099251e+00,\n",
       "         -1.01071052e+00],\n",
       "       [  9.06184956e-18,   6.40531217e-01,   4.28857747e-01,\n",
       "         -1.36816497e-01],\n",
       "       [  1.06905726e-17,   3.71148918e-19,   1.08079798e+00,\n",
       "         -2.01973547e+00],\n",
       "       [  1.18171366e-17,  -3.06702012e-18,  -6.32942778e-18,\n",
       "          4.52232385e-01]])"
      ]
     },
     "execution_count": 220,
     "metadata": {},
     "output_type": "execute_result"
    }
   ],
   "source": [
    "R = A_mat\n",
    "R"
   ]
  },
  {
   "cell_type": "code",
   "execution_count": 222,
   "metadata": {
    "collapsed": false
   },
   "outputs": [
    {
     "data": {
      "text/plain": [
       "array([[  3.40000000e-01,   3.62460958e-01,   1.93490208e+00,\n",
       "         -1.86590376e+00],\n",
       "       [ -1.08167879e+00,  -2.37657607e-01,  -2.66589287e+00,\n",
       "          4.01792612e-01],\n",
       "       [ -9.94765808e-19,  -1.48935380e-01,   4.67178599e-01,\n",
       "         -1.19959518e+00],\n",
       "       [ -1.13568225e-17,  -5.58644875e-01,  -6.32159144e-01,\n",
       "          5.67248666e-01]])"
      ]
     },
     "execution_count": 222,
     "metadata": {},
     "output_type": "execute_result"
    }
   ],
   "source": [
    "np.dot(Q, R)"
   ]
  },
  {
   "cell_type": "code",
   "execution_count": 195,
   "metadata": {
    "collapsed": false
   },
   "outputs": [
    {
     "data": {
      "text/plain": [
       "array([[ 0.34 ,  0.4  ,  0.3  ,  0.9  ],\n",
       "       [ 0.45 ,  0.25 ,  0.98 ,  0.46 ],\n",
       "       [ 0.923,  0.34 ,  3.   , -2.   ],\n",
       "       [ 0.34 , -0.45 ,  0.1  ,  0.55 ]])"
      ]
     },
     "execution_count": 195,
     "metadata": {},
     "output_type": "execute_result"
    }
   ],
   "source": [
    "np.dot(Q,R)"
   ]
  },
  {
   "cell_type": "code",
   "execution_count": 142,
   "metadata": {
    "collapsed": true
   },
   "outputs": [],
   "source": [
    "import numpy.linalg as nla"
   ]
  },
  {
   "cell_type": "code",
   "execution_count": 143,
   "metadata": {
    "collapsed": false
   },
   "outputs": [
    {
     "data": {
      "text/plain": [
       "37.75729255859725"
      ]
     },
     "execution_count": 143,
     "metadata": {},
     "output_type": "execute_result"
    }
   ],
   "source": [
    "nla.cond(A)"
   ]
  },
  {
   "cell_type": "code",
   "execution_count": 177,
   "metadata": {
    "collapsed": false
   },
   "outputs": [],
   "source": [
    "Q, R = nla.qr(A_mat)"
   ]
  },
  {
   "cell_type": "code",
   "execution_count": 178,
   "metadata": {
    "collapsed": false
   },
   "outputs": [
    {
     "data": {
      "text/plain": [
       "array([[ 0.34 ,  0.4  ,  0.3  ,  0.9  ],\n",
       "       [ 0.45 ,  0.25 ,  0.98 ,  0.46 ],\n",
       "       [ 0.923,  0.34 ,  3.   , -2.   ],\n",
       "       [ 0.34 , -0.45 ,  0.1  ,  0.55 ]])"
      ]
     },
     "execution_count": 178,
     "metadata": {},
     "output_type": "execute_result"
    }
   ],
   "source": [
    "np.dot(Q,R)"
   ]
  },
  {
   "cell_type": "code",
   "execution_count": 204,
   "metadata": {
    "collapsed": true
   },
   "outputs": [],
   "source": [
    "def givens_qr(A):\n",
    "    m,n = A.shape\n",
    "    Q = np.eye(m)\n",
    "    for c in xrange(n):\n",
    "        for r in reversed(xrange(c+1, m)):  # m-1, m-2, ... c+2, c+1\n",
    "            # in this row and the previous row, use zeroing givens to\n",
    "            # place a zero in the lower row\n",
    "            coeffs = zeroing_givens_coeffs(A[r-1, c], A[r,c])\n",
    "            left_givensT(coeffs, A[:, c:], r-1, r) \n",
    "            # left_givensT(coeffs, A[r-1:r+1, c:], 0, 1)\n",
    "            left_givensT(coeffs, Q[:, c:], r-1, r)\n",
    "    return Q\n"
   ]
  },
  {
   "cell_type": "code",
   "execution_count": 205,
   "metadata": {
    "collapsed": true
   },
   "outputs": [],
   "source": [
    "# GvL, pg. 216 .... Section 5.1.9\n",
    "def left_givensT((c,s), A, r1, r2):\n",
    "    ''' update A <- G.T.dot(A) ... affects rows r1 and r2 '''\n",
    "    givensT = np.array([[ c, -s],   # manually transposed \n",
    "                        [ s,  c]])\n",
    "    A[[r1,r2],:] = np.dot(givensT, A[[r1,r2],:])\n",
    "\n",
    "# A.dot(G) .... affects two cols of A\n",
    "def right_givens((c,s), A, c1, c2):\n",
    "    ''' update A <- A.dot(G) ... affects cols c1 and c2 '''\n",
    "    givens = np.array([[ c, s],\n",
    "                       [-s, c]])\n",
    "    A[:,[c1, c2]] = np.dot(A[:,[c1, c2]], givens)"
   ]
  },
  {
   "cell_type": "code",
   "execution_count": 206,
   "metadata": {
    "collapsed": true
   },
   "outputs": [],
   "source": [
    "# GvL pg. 216 : algo 5.1.3 * see also anderson(2000) via wikipedia for continuity concerns\n",
    "def zeroing_givens_coeffs(x,z):\n",
    "    ''' for the values x,z compute cos th, sin th \n",
    "        s.t. applying a Givens rotation G(cos th,sin th) \n",
    "             on 2 rows(or cols) with values x,z will\n",
    "             maps x --> r and z --> 0'''\n",
    "    if z == 0.0: # better:  abs(z) < np.finfo(np.double).eps\n",
    "        return 1.0,0.0\n",
    "    r = np.hypot(x,z) # C99 hypot is safe for under/overflow\n",
    "    return x/r, -z/r"
   ]
  },
  {
   "cell_type": "code",
   "execution_count": 207,
   "metadata": {
    "collapsed": false
   },
   "outputs": [
    {
     "data": {
      "text/plain": [
       "array([[ 0.29986176,  0.39687586,  0.81403649,  0.29986176],\n",
       "       [-0.95398266,  0.16662497,  0.07202495, -0.87154157],\n",
       "       [ 0.        , -0.23251853,  0.52451613, -0.38038788],\n",
       "       [ 0.        , -0.8721587 , -0.23883014, -0.07617926]])"
      ]
     },
     "execution_count": 207,
     "metadata": {},
     "output_type": "execute_result"
    }
   ],
   "source": [
    "givens_qr(A_mat)"
   ]
  },
  {
   "cell_type": "code",
   "execution_count": 208,
   "metadata": {
    "collapsed": false
   },
   "outputs": [
    {
     "data": {
      "text/plain": [
       "array([[  1.13385581e+00,   3.60998282e-01,   2.95099251e+00,\n",
       "         -1.01071052e+00],\n",
       "       [  9.06184956e-18,   6.40531217e-01,   4.28857747e-01,\n",
       "         -1.36816497e-01],\n",
       "       [  1.06905726e-17,   3.71148918e-19,   1.08079798e+00,\n",
       "         -2.01973547e+00],\n",
       "       [  1.18171366e-17,  -3.06702012e-18,  -6.32942778e-18,\n",
       "          4.52232385e-01]])"
      ]
     },
     "execution_count": 208,
     "metadata": {},
     "output_type": "execute_result"
    }
   ],
   "source": [
    "A_mat"
   ]
  },
  {
   "cell_type": "code",
   "execution_count": 154,
   "metadata": {
    "collapsed": false
   },
   "outputs": [],
   "source": [
    "Q, R = nla.qr(A)"
   ]
  },
  {
   "cell_type": "code",
   "execution_count": 157,
   "metadata": {
    "collapsed": false
   },
   "outputs": [
    {
     "data": {
      "text/plain": [
       "array([[  1.13385581e+00,   3.60998282e-01,   2.95099251e+00,\n",
       "         -1.01071052e+00],\n",
       "       [  0.00000000e+00,   6.40531217e-01,   4.28857747e-01,\n",
       "         -1.36816497e-01],\n",
       "       [  0.00000000e+00,  -4.45748039e-68,   1.08079798e+00,\n",
       "         -2.01973547e+00],\n",
       "       [  0.00000000e+00,   0.00000000e+00,   3.22276523e-33,\n",
       "          4.52232385e-01]])"
      ]
     },
     "execution_count": 157,
     "metadata": {},
     "output_type": "execute_result"
    }
   ],
   "source": [
    "A"
   ]
  },
  {
   "cell_type": "code",
   "execution_count": 151,
   "metadata": {
    "collapsed": false
   },
   "outputs": [
    {
     "data": {
      "text/plain": [
       "(array([[  1.00000000e+00,   0.00000000e+00,  -4.92581904e-35,\n",
       "          -2.73012869e-34],\n",
       "        [ -2.77420973e-34,   1.00000000e+00,   2.67306193e-18,\n",
       "           1.92592994e-34],\n",
       "        [  0.00000000e+00,  -4.74622348e-19,   1.00000000e+00,\n",
       "           1.50898596e-17],\n",
       "        [  0.00000000e+00,   2.63058809e-18,  -3.99802671e-17,\n",
       "           1.00000000e+00]]),\n",
       " array([[  1.13385581e+00,   3.60998282e-01,   2.95099251e+00,\n",
       "          -1.01071052e+00],\n",
       "        [  0.00000000e+00,   6.40531217e-01,   4.28857747e-01,\n",
       "          -1.36816497e-01],\n",
       "        [  0.00000000e+00,  -5.27084008e-36,   1.08079798e+00,\n",
       "          -2.01973547e+00],\n",
       "        [  1.76111171e-51,   0.00000000e+00,   3.35679185e-17,\n",
       "           4.52232385e-01]]))"
      ]
     },
     "execution_count": 151,
     "metadata": {},
     "output_type": "execute_result"
    }
   ],
   "source": [
    "SSS.givens_QR(A)"
   ]
  },
  {
   "cell_type": "code",
   "execution_count": 223,
   "metadata": {
    "collapsed": false
   },
   "outputs": [
    {
     "data": {
      "text/plain": [
       "(4, 4)"
      ]
     },
     "execution_count": 223,
     "metadata": {},
     "output_type": "execute_result"
    }
   ],
   "source": []
  },
  {
   "cell_type": "markdown",
   "metadata": {},
   "source": [
    "# Householder transformation"
   ]
  },
  {
   "cell_type": "code",
   "execution_count": 307,
   "metadata": {
    "collapsed": true
   },
   "outputs": [],
   "source": [
    "def Householder(A):\n",
    "    m,n = A.shape\n",
    "    R = A\n",
    "    Q = np.eye(m)\n",
    "    \n",
    "    for j in range(n):\n",
    "        print(j)\n",
    "        norm_x = nla.norm(R[j:n,j])\n",
    "        s = -np.sign(R[j,j])\n",
    "        u1 = R[j,j] - s*norm_x\n",
    "        w = R[j:n,j]/norm_x\n",
    "        w[1] = 1\n",
    "        alpha = (-s *u1)/norm_x\n",
    "        R[j:m,j:n] = R[j:m,j:n] - 2*np.outer(v_k,np.transpose(np.dot(np.transpose(v_k),R[j:m,j:n])))\n",
    "        Q[:,j:n] = Q[:,j:n] - (Q[:,j:n]*w)*(alpha*w)\n",
    "        \n",
    "    return(Q,R)\n",
    "    \n",
    "    \n",
    "        "
   ]
  },
  {
   "cell_type": "code",
   "execution_count": 308,
   "metadata": {
    "collapsed": false
   },
   "outputs": [
    {
     "name": "stdout",
     "output_type": "stream",
     "text": [
      "0\n"
     ]
    },
    {
     "ename": "ValueError",
     "evalue": "shapes (3,) and (4,4) not aligned: 3 (dim 0) != 4 (dim 0)",
     "output_type": "error",
     "traceback": [
      "\u001b[0;31m---------------------------------------------------------------------------\u001b[0m",
      "\u001b[0;31mValueError\u001b[0m                                Traceback (most recent call last)",
      "\u001b[0;32m<ipython-input-308-95a42d912972>\u001b[0m in \u001b[0;36m<module>\u001b[0;34m()\u001b[0m\n\u001b[1;32m      1\u001b[0m \u001b[0mA_mat\u001b[0m \u001b[0;34m=\u001b[0m \u001b[0mnp\u001b[0m\u001b[0;34m.\u001b[0m\u001b[0marray\u001b[0m\u001b[0;34m(\u001b[0m\u001b[0;34m[\u001b[0m\u001b[0;34m[\u001b[0m\u001b[0;36m0.34\u001b[0m\u001b[0;34m,\u001b[0m\u001b[0;36m0.4\u001b[0m\u001b[0;34m,\u001b[0m\u001b[0;36m0.3\u001b[0m\u001b[0;34m,\u001b[0m\u001b[0;36m0.9\u001b[0m\u001b[0;34m]\u001b[0m\u001b[0;34m,\u001b[0m\u001b[0;34m[\u001b[0m\u001b[0;36m0.45\u001b[0m\u001b[0;34m,\u001b[0m\u001b[0;36m0.25\u001b[0m\u001b[0;34m,\u001b[0m\u001b[0;36m0.98\u001b[0m\u001b[0;34m,\u001b[0m\u001b[0;36m0.46\u001b[0m\u001b[0;34m]\u001b[0m\u001b[0;34m,\u001b[0m\u001b[0;34m[\u001b[0m\u001b[0;36m0.923\u001b[0m\u001b[0;34m,\u001b[0m\u001b[0;36m0.34\u001b[0m\u001b[0;34m,\u001b[0m\u001b[0;36m3\u001b[0m\u001b[0;34m,\u001b[0m\u001b[0;34m-\u001b[0m\u001b[0;36m2\u001b[0m\u001b[0;34m]\u001b[0m\u001b[0;34m,\u001b[0m\u001b[0;34m[\u001b[0m\u001b[0;36m0.34\u001b[0m\u001b[0;34m,\u001b[0m\u001b[0;34m-\u001b[0m\u001b[0;36m0.45\u001b[0m\u001b[0;34m,\u001b[0m\u001b[0;36m0.1\u001b[0m\u001b[0;34m,\u001b[0m\u001b[0;36m0.55\u001b[0m\u001b[0;34m]\u001b[0m\u001b[0;34m]\u001b[0m\u001b[0;34m)\u001b[0m\u001b[0;34m\u001b[0m\u001b[0m\n\u001b[0;32m----> 2\u001b[0;31m \u001b[0mHouseholder\u001b[0m\u001b[0;34m(\u001b[0m\u001b[0mA_mat\u001b[0m\u001b[0;34m)\u001b[0m\u001b[0;34m\u001b[0m\u001b[0m\n\u001b[0m",
      "\u001b[0;32m<ipython-input-307-da9514b62d46>\u001b[0m in \u001b[0;36mHouseholder\u001b[0;34m(A)\u001b[0m\n\u001b[1;32m     12\u001b[0m         \u001b[0mw\u001b[0m\u001b[0;34m[\u001b[0m\u001b[0;36m1\u001b[0m\u001b[0;34m]\u001b[0m \u001b[0;34m=\u001b[0m \u001b[0;36m1\u001b[0m\u001b[0;34m\u001b[0m\u001b[0m\n\u001b[1;32m     13\u001b[0m         \u001b[0malpha\u001b[0m \u001b[0;34m=\u001b[0m \u001b[0;34m(\u001b[0m\u001b[0;34m-\u001b[0m\u001b[0ms\u001b[0m \u001b[0;34m*\u001b[0m\u001b[0mu1\u001b[0m\u001b[0;34m)\u001b[0m\u001b[0;34m/\u001b[0m\u001b[0mnorm_x\u001b[0m\u001b[0;34m\u001b[0m\u001b[0m\n\u001b[0;32m---> 14\u001b[0;31m         \u001b[0mR\u001b[0m\u001b[0;34m[\u001b[0m\u001b[0mj\u001b[0m\u001b[0;34m:\u001b[0m\u001b[0mm\u001b[0m\u001b[0;34m,\u001b[0m\u001b[0mj\u001b[0m\u001b[0;34m:\u001b[0m\u001b[0mn\u001b[0m\u001b[0;34m]\u001b[0m \u001b[0;34m=\u001b[0m \u001b[0mR\u001b[0m\u001b[0;34m[\u001b[0m\u001b[0mj\u001b[0m\u001b[0;34m:\u001b[0m\u001b[0mm\u001b[0m\u001b[0;34m,\u001b[0m\u001b[0mj\u001b[0m\u001b[0;34m:\u001b[0m\u001b[0mn\u001b[0m\u001b[0;34m]\u001b[0m \u001b[0;34m-\u001b[0m \u001b[0;36m2\u001b[0m\u001b[0;34m*\u001b[0m\u001b[0mnp\u001b[0m\u001b[0;34m.\u001b[0m\u001b[0mouter\u001b[0m\u001b[0;34m(\u001b[0m\u001b[0mv_k\u001b[0m\u001b[0;34m,\u001b[0m\u001b[0mnp\u001b[0m\u001b[0;34m.\u001b[0m\u001b[0mtranspose\u001b[0m\u001b[0;34m(\u001b[0m\u001b[0mnp\u001b[0m\u001b[0;34m.\u001b[0m\u001b[0mdot\u001b[0m\u001b[0;34m(\u001b[0m\u001b[0mnp\u001b[0m\u001b[0;34m.\u001b[0m\u001b[0mtranspose\u001b[0m\u001b[0;34m(\u001b[0m\u001b[0mv_k\u001b[0m\u001b[0;34m)\u001b[0m\u001b[0;34m,\u001b[0m\u001b[0mR\u001b[0m\u001b[0;34m[\u001b[0m\u001b[0mj\u001b[0m\u001b[0;34m:\u001b[0m\u001b[0mm\u001b[0m\u001b[0;34m,\u001b[0m\u001b[0mj\u001b[0m\u001b[0;34m:\u001b[0m\u001b[0mn\u001b[0m\u001b[0;34m]\u001b[0m\u001b[0;34m)\u001b[0m\u001b[0;34m)\u001b[0m\u001b[0;34m)\u001b[0m\u001b[0;34m\u001b[0m\u001b[0m\n\u001b[0m\u001b[1;32m     15\u001b[0m         \u001b[0mQ\u001b[0m\u001b[0;34m[\u001b[0m\u001b[0;34m:\u001b[0m\u001b[0;34m,\u001b[0m\u001b[0mj\u001b[0m\u001b[0;34m:\u001b[0m\u001b[0mn\u001b[0m\u001b[0;34m]\u001b[0m \u001b[0;34m=\u001b[0m \u001b[0mQ\u001b[0m\u001b[0;34m[\u001b[0m\u001b[0;34m:\u001b[0m\u001b[0;34m,\u001b[0m\u001b[0mj\u001b[0m\u001b[0;34m:\u001b[0m\u001b[0mn\u001b[0m\u001b[0;34m]\u001b[0m \u001b[0;34m-\u001b[0m \u001b[0;34m(\u001b[0m\u001b[0mQ\u001b[0m\u001b[0;34m[\u001b[0m\u001b[0;34m:\u001b[0m\u001b[0;34m,\u001b[0m\u001b[0mj\u001b[0m\u001b[0;34m:\u001b[0m\u001b[0mn\u001b[0m\u001b[0;34m]\u001b[0m\u001b[0;34m*\u001b[0m\u001b[0mw\u001b[0m\u001b[0;34m)\u001b[0m\u001b[0;34m*\u001b[0m\u001b[0;34m(\u001b[0m\u001b[0malpha\u001b[0m\u001b[0;34m*\u001b[0m\u001b[0mw\u001b[0m\u001b[0;34m)\u001b[0m\u001b[0;34m\u001b[0m\u001b[0m\n\u001b[1;32m     16\u001b[0m \u001b[0;34m\u001b[0m\u001b[0m\n",
      "\u001b[0;31mValueError\u001b[0m: shapes (3,) and (4,4) not aligned: 3 (dim 0) != 4 (dim 0)"
     ]
    }
   ],
   "source": [
    "A_mat = np.array([[0.34,0.4,0.3,0.9],[0.45,0.25,0.98,0.46],[0.923,0.34,3,-2],[0.34,-0.45,0.1,0.55]])\n",
    "Householder(A_mat)"
   ]
  },
  {
   "cell_type": "code",
   "execution_count": 429,
   "metadata": {
    "collapsed": false
   },
   "outputs": [],
   "source": [
    "def Householder(A):\n",
    "    m,n = A.shape\n",
    "    R = A\n",
    "    Q = np.eye(m)\n",
    "    reflecMat = []\n",
    "    for j in range(n):\n",
    "        #print(j)\n",
    "        x = R[j:m,j]\n",
    "        e_1 = np.zeros(len(x))\n",
    "        e_1[0] = 1\n",
    "        v_k = np.sign(x[0])*nla.norm(x)*e_1+x\n",
    "        v_k = v_k/nla.norm(v_k)\n",
    "        print(v_k)\n",
    "        reflecMat.append(v_k)\n",
    "        R[j:m,j:n] = R[j:m,j:n] - 2*np.outer(v_k,np.transpose(np.dot(np.transpose(v_k),R[j:m,j:n])))\n",
    "        \n",
    "        #Q[n-j-1:m,] = Q[n-j-1:m,] - 2*np.dot(v_k,np.outer(np.transpose(v_k),Q[n-j-1:m,]))\n",
    "    #print(reflecMat)\n",
    "    \n",
    "    for k in range(n-1,-1,-1):\n",
    "        Q[k:m,] = Q[k:m,] - 2*np.outer(reflecMat[k],np.dot(np.transpose(reflecMat[k]),Q[k:m,]))\n",
    "    return(Q,R)\n",
    "    "
   ]
  },
  {
   "cell_type": "code",
   "execution_count": 430,
   "metadata": {
    "collapsed": false
   },
   "outputs": [
    {
     "name": "stdout",
     "output_type": "stream",
     "text": [
      "[ 0.80618291  0.24614505  0.50487084  0.18597626]\n",
      "[ 0.71678326 -0.14873391 -0.68124884]\n",
      "[ 0.99295432 -0.11849775]\n",
      "[ 1.]\n",
      "[[-0.29986176 -0.45548197  0.72189882  0.4260061 ]\n",
      " [-0.39687586 -0.16662497  0.24300203 -0.86929609]\n",
      " [-0.81403649 -0.07202495 -0.52451613  0.23883014]\n",
      " [-0.29986176  0.87154157  0.38038788  0.07617926]] [[ -1.13385581e+00  -3.60998282e-01  -2.95099251e+00   1.01071052e+00]\n",
      " [  5.55111512e-17  -6.40531217e-01  -4.28857747e-01   1.36816497e-01]\n",
      " [  1.11022302e-16  -2.77555756e-17  -1.08079798e+00   2.01973547e+00]\n",
      " [  5.55111512e-17  -2.22044605e-16  -5.55111512e-17  -4.52232385e-01]]\n"
     ]
    }
   ],
   "source": [
    "A = np.array([[0.34,0.4,0.3,0.9],[0.45,0.25,0.98,0.46],[0.923,0.34,3,-2],[0.34,-0.45,0.1,0.55]])\n",
    "Q,R=Householder(A)\n",
    "print Q,R"
   ]
  },
  {
   "cell_type": "code",
   "execution_count": 431,
   "metadata": {
    "collapsed": false
   },
   "outputs": [
    {
     "data": {
      "text/plain": [
       "array([[ 0.34 ,  0.4  ,  0.3  ,  0.9  ],\n",
       "       [ 0.45 ,  0.25 ,  0.98 ,  0.46 ],\n",
       "       [ 0.923,  0.34 ,  3.   , -2.   ],\n",
       "       [ 0.34 , -0.45 ,  0.1  ,  0.55 ]])"
      ]
     },
     "execution_count": 431,
     "metadata": {},
     "output_type": "execute_result"
    }
   ],
   "source": [
    "np.dot(Q,R)"
   ]
  },
  {
   "cell_type": "code",
   "execution_count": 432,
   "metadata": {
    "collapsed": false
   },
   "outputs": [
    {
     "data": {
      "text/plain": [
       "37.757292558597278"
      ]
     },
     "execution_count": 432,
     "metadata": {},
     "output_type": "execute_result"
    }
   ],
   "source": [
    "A = np.array([[0.34,0.4,0.3,0.9],[0.45,0.25,0.98,0.46],[0.923,0.34,3,-2],[0.34,-0.45,0.1,0.55]])\n",
    "nla.cond(A)"
   ]
  },
  {
   "cell_type": "code",
   "execution_count": 433,
   "metadata": {
    "collapsed": false
   },
   "outputs": [
    {
     "data": {
      "text/plain": [
       "37.757292558597285"
      ]
     },
     "execution_count": 433,
     "metadata": {},
     "output_type": "execute_result"
    }
   ],
   "source": [
    "nla.cond(R)"
   ]
  },
  {
   "cell_type": "code",
   "execution_count": 410,
   "metadata": {
    "collapsed": false
   },
   "outputs": [
    {
     "name": "stdout",
     "output_type": "stream",
     "text": [
      "0\n",
      "[[ 0.5460385  -0.5551099   0.57146275  1.3890673 ]\n",
      " [ 0.55886022 -0.19090554  2.99957723  0.62835188]\n",
      " [ 0.61399362 -0.12590299  0.47472894  0.02474768]\n",
      " [ 0.5460385  -0.42444847  0.71484207 -1.73180642]]\n",
      "1\n",
      "[[ 0.5460385  -0.5551099   0.57146275  1.3890673 ]\n",
      " [ 0.55886022  0.29187268  0.58048131  1.55494468]\n",
      " [ 0.61399362  0.31024821 -1.71072923  0.86184959]\n",
      " [ 0.5460385   0.22585256 -2.54367397 -0.48368829]]\n",
      "2\n",
      "[[ 0.5460385  -0.5551099   0.57146275  1.3890673 ]\n",
      " [ 0.55886022  0.29187268  0.58048131  1.55494468]\n",
      " [ 0.61399362  0.31024821  2.23849521  0.6148699 ]\n",
      " [ 0.5460385   0.22585256  2.09428054 -0.77374032]]\n",
      "3\n",
      "[[ 0.5460385  -0.5551099   0.57146275  1.3890673 ]\n",
      " [ 0.55886022  0.29187268  0.58048131  1.55494468]\n",
      " [ 0.61399362  0.31024821  2.23849521  0.6148699 ]\n",
      " [ 0.5460385   0.22585256  2.09428054  0.77374032]]\n"
     ]
    }
   ],
   "source": [
    "m,n = A.shape\n",
    "R = A\n",
    "Q = np.eye(m)\n",
    "reflecMat = []\n",
    "for j in range(n):\n",
    "    print(j)\n",
    "    x = R[j:m,j]\n",
    "    e_1 = np.zeros(len(x))\n",
    "    e_1 = 1\n",
    "    v_k = np.sign(x[0])*nla.norm(x)*e_1+x\n",
    "    v_k = v_k/nla.norm(v_k)\n",
    "    #print(v_k)\n",
    "    reflecMat.append(v_k)\n",
    "    R[j:m,j:n] = R[j:m,j:n] - 2*np.outer(v_k,np.transpose(np.dot(np.transpose(v_k),R[j:m,j:n])))\n",
    "    print(R)\n",
    "        \n",
    "    #Q[n-j-1:m,] = Q[n-j-1:m,] - 2*np.dot(v_k,np.outer(np.transpose(v_k),Q[n-j-1:m,]))\n",
    "    #print(reflecMat)\n",
    "    \n",
    "for k in range(n-1,-1,-1):\n",
    "    Q[k:m,] = Q[k:m,] - 2*np.outer(reflecMat[k],np.dot(np.transpose(reflecMat[k]),Q[k:m,]))\n",
    "    "
   ]
  },
  {
   "cell_type": "code",
   "execution_count": 397,
   "metadata": {
    "collapsed": false
   },
   "outputs": [
    {
     "data": {
      "text/plain": [
       "array([[ 0.56692079,  0.23670362, -1.89392101,  0.45255037],\n",
       "       [ 0.18896823,  0.32798471, -1.52529454, -1.31892664],\n",
       "       [ 0.1889899 ,  0.32799351,  2.03596316, -1.6293502 ],\n",
       "       [-0.94488287, -0.51905461,  0.04235322,  0.85143913]])"
      ]
     },
     "execution_count": 397,
     "metadata": {},
     "output_type": "execute_result"
    }
   ],
   "source": [
    "np.dot(Q,R)"
   ]
  },
  {
   "cell_type": "code",
   "execution_count": 412,
   "metadata": {
    "collapsed": false
   },
   "outputs": [
    {
     "data": {
      "text/plain": [
       "array([[ 0.5460385 , -0.5551099 ,  0.57146275,  1.3890673 ],\n",
       "       [ 0.55886022,  0.2794929 ,  0.4610446 ,  1.50331191],\n",
       "       [ 0.61399362,  0.28081781,  2.01933154,  0.50286073],\n",
       "       [ 0.5460385 ,  0.27473272,  2.33314559,  0.93902951]])"
      ]
     },
     "execution_count": 412,
     "metadata": {},
     "output_type": "execute_result"
    }
   ],
   "source": [
    "j = 1\n",
    "x = R[j:m,j]\n",
    "e_1 = np.zeros(len(x))\n",
    "e_1 = 1\n",
    "v_k = np.sign(x[0])*nla.norm(x)*e_1+x\n",
    "v_k = v_k/nla.norm(v_k)\n",
    "#print(v_k)\n",
    "reflecMat.append(v_k)\n",
    "R[j:m,j:n] = R[j:m,j:n] - 2*np.outer(v_k,np.transpose(np.dot(np.transpose(v_k),R[j:m,j:n])))\n",
    "R"
   ]
  },
  {
   "cell_type": "code",
   "execution_count": 413,
   "metadata": {
    "collapsed": false
   },
   "outputs": [
    {
     "data": {
      "text/plain": [
       "array([ 0.2794929 ,  0.28081781,  0.27473272])"
      ]
     },
     "execution_count": 413,
     "metadata": {},
     "output_type": "execute_result"
    }
   ],
   "source": [
    "R[j:m,j]"
   ]
  },
  {
   "cell_type": "code",
   "execution_count": 336,
   "metadata": {
    "collapsed": false
   },
   "outputs": [],
   "source": [
    "A = np.array([[0.34,0.4,0.3,0.9],[0.45,0.25,0.98,0.46],[0.923,0.34,3,-2],[0.34,-0.45,0.1,0.55]])\n",
    "m,n = A.shape\n",
    "R = A\n",
    "Q = np.eye(m)\n",
    "j = 1"
   ]
  },
  {
   "cell_type": "code",
   "execution_count": null,
   "metadata": {
    "collapsed": true
   },
   "outputs": [],
   "source": []
  },
  {
   "cell_type": "code",
   "execution_count": 337,
   "metadata": {
    "collapsed": false
   },
   "outputs": [
    {
     "ename": "ValueError",
     "evalue": "operands could not be broadcast together with shapes (2,4) (8,) ",
     "output_type": "error",
     "traceback": [
      "\u001b[0;31m---------------------------------------------------------------------------\u001b[0m",
      "\u001b[0;31mValueError\u001b[0m                                Traceback (most recent call last)",
      "\u001b[0;32m<ipython-input-337-fb532bdc2fe3>\u001b[0m in \u001b[0;36m<module>\u001b[0;34m()\u001b[0m\n\u001b[1;32m      5\u001b[0m \u001b[0mv_k\u001b[0m \u001b[0;34m=\u001b[0m \u001b[0mv_k\u001b[0m\u001b[0;34m/\u001b[0m\u001b[0mnla\u001b[0m\u001b[0;34m.\u001b[0m\u001b[0mnorm\u001b[0m\u001b[0;34m(\u001b[0m\u001b[0mv_k\u001b[0m\u001b[0;34m)\u001b[0m\u001b[0;34m\u001b[0m\u001b[0m\n\u001b[1;32m      6\u001b[0m \u001b[0mR\u001b[0m\u001b[0;34m[\u001b[0m\u001b[0mj\u001b[0m\u001b[0;34m:\u001b[0m\u001b[0mm\u001b[0m\u001b[0;34m,\u001b[0m\u001b[0mj\u001b[0m\u001b[0;34m:\u001b[0m\u001b[0mn\u001b[0m\u001b[0;34m]\u001b[0m \u001b[0;34m=\u001b[0m \u001b[0mR\u001b[0m\u001b[0;34m[\u001b[0m\u001b[0mj\u001b[0m\u001b[0;34m:\u001b[0m\u001b[0mm\u001b[0m\u001b[0;34m,\u001b[0m\u001b[0mj\u001b[0m\u001b[0;34m:\u001b[0m\u001b[0mn\u001b[0m\u001b[0;34m]\u001b[0m \u001b[0;34m-\u001b[0m \u001b[0;36m2\u001b[0m\u001b[0;34m*\u001b[0m\u001b[0mnp\u001b[0m\u001b[0;34m.\u001b[0m\u001b[0mouter\u001b[0m\u001b[0;34m(\u001b[0m\u001b[0mv_k\u001b[0m\u001b[0;34m,\u001b[0m\u001b[0mnp\u001b[0m\u001b[0;34m.\u001b[0m\u001b[0mtranspose\u001b[0m\u001b[0;34m(\u001b[0m\u001b[0mnp\u001b[0m\u001b[0;34m.\u001b[0m\u001b[0mdot\u001b[0m\u001b[0;34m(\u001b[0m\u001b[0mnp\u001b[0m\u001b[0;34m.\u001b[0m\u001b[0mtranspose\u001b[0m\u001b[0;34m(\u001b[0m\u001b[0mv_k\u001b[0m\u001b[0;34m)\u001b[0m\u001b[0;34m,\u001b[0m\u001b[0mR\u001b[0m\u001b[0;34m[\u001b[0m\u001b[0mj\u001b[0m\u001b[0;34m:\u001b[0m\u001b[0mm\u001b[0m\u001b[0;34m,\u001b[0m\u001b[0mj\u001b[0m\u001b[0;34m:\u001b[0m\u001b[0mn\u001b[0m\u001b[0;34m]\u001b[0m\u001b[0;34m)\u001b[0m\u001b[0;34m)\u001b[0m\u001b[0;34m)\u001b[0m\u001b[0;34m\u001b[0m\u001b[0m\n\u001b[0;32m----> 7\u001b[0;31m \u001b[0mQ\u001b[0m\u001b[0;34m[\u001b[0m\u001b[0mn\u001b[0m\u001b[0;34m-\u001b[0m\u001b[0mj\u001b[0m\u001b[0;34m-\u001b[0m\u001b[0;36m1\u001b[0m\u001b[0;34m:\u001b[0m\u001b[0mm\u001b[0m\u001b[0;34m,\u001b[0m\u001b[0;34m]\u001b[0m \u001b[0;34m=\u001b[0m \u001b[0mQ\u001b[0m\u001b[0;34m[\u001b[0m\u001b[0mn\u001b[0m\u001b[0;34m-\u001b[0m\u001b[0mj\u001b[0m\u001b[0;34m-\u001b[0m\u001b[0;36m1\u001b[0m\u001b[0;34m:\u001b[0m\u001b[0mm\u001b[0m\u001b[0;34m,\u001b[0m\u001b[0;34m]\u001b[0m \u001b[0;34m-\u001b[0m \u001b[0;36m2\u001b[0m\u001b[0;34m*\u001b[0m\u001b[0mnp\u001b[0m\u001b[0;34m.\u001b[0m\u001b[0mdot\u001b[0m\u001b[0;34m(\u001b[0m\u001b[0mv_k\u001b[0m\u001b[0;34m,\u001b[0m\u001b[0mnp\u001b[0m\u001b[0;34m.\u001b[0m\u001b[0mouter\u001b[0m\u001b[0;34m(\u001b[0m\u001b[0mnp\u001b[0m\u001b[0;34m.\u001b[0m\u001b[0mtranspose\u001b[0m\u001b[0;34m(\u001b[0m\u001b[0mv_k\u001b[0m\u001b[0;34m)\u001b[0m\u001b[0;34m,\u001b[0m\u001b[0mQ\u001b[0m\u001b[0;34m[\u001b[0m\u001b[0mn\u001b[0m\u001b[0;34m-\u001b[0m\u001b[0mj\u001b[0m\u001b[0;34m-\u001b[0m\u001b[0;36m1\u001b[0m\u001b[0;34m:\u001b[0m\u001b[0mm\u001b[0m\u001b[0;34m,\u001b[0m\u001b[0;34m]\u001b[0m\u001b[0;34m)\u001b[0m\u001b[0;34m)\u001b[0m\u001b[0;34m\u001b[0m\u001b[0m\n\u001b[0m",
      "\u001b[0;31mValueError\u001b[0m: operands could not be broadcast together with shapes (2,4) (8,) "
     ]
    }
   ],
   "source": [
    "x = R[j:m,j]\n",
    "e_1 = np.zeros(len(x))\n",
    "e_1 = 1\n",
    "v_k = np.sign(x[0])*nla.norm(x)*e_1+x\n",
    "v_k = v_k/nla.norm(v_k)\n",
    "R[j:m,j:n] = R[j:m,j:n] - 2*np.outer(v_k,np.transpose(np.dot(np.transpose(v_k),R[j:m,j:n])))\n",
    "Q[n-j-1:m,] = Q[n-j-1:m,] - 2*np.dot(v_k,np.outer(np.transpose(v_k),Q[n-j-1:m,]))"
   ]
  },
  {
   "cell_type": "code",
   "execution_count": 339,
   "metadata": {
    "collapsed": false
   },
   "outputs": [
    {
     "data": {
      "text/plain": [
       "array([ 0.,  0.,  2.,  0.,  0.,  0.,  0.,  2.])"
      ]
     },
     "execution_count": 339,
     "metadata": {},
     "output_type": "execute_result"
    }
   ],
   "source": [
    "2*np.dot(v_k,np.outer(np.transpose(v_k),Q[n-j-1:m,]))"
   ]
  },
  {
   "cell_type": "code",
   "execution_count": 340,
   "metadata": {
    "collapsed": false
   },
   "outputs": [
    {
     "ename": "ValueError",
     "evalue": "shapes (3,) and (2,4) not aligned: 3 (dim 0) != 2 (dim 0)",
     "output_type": "error",
     "traceback": [
      "\u001b[0;31m---------------------------------------------------------------------------\u001b[0m",
      "\u001b[0;31mValueError\u001b[0m                                Traceback (most recent call last)",
      "\u001b[0;32m<ipython-input-340-b9ef191d870a>\u001b[0m in \u001b[0;36m<module>\u001b[0;34m()\u001b[0m\n\u001b[0;32m----> 1\u001b[0;31m \u001b[0mnp\u001b[0m\u001b[0;34m.\u001b[0m\u001b[0mdot\u001b[0m\u001b[0;34m(\u001b[0m\u001b[0mv_k\u001b[0m\u001b[0;34m,\u001b[0m\u001b[0mnp\u001b[0m\u001b[0;34m.\u001b[0m\u001b[0mdot\u001b[0m\u001b[0;34m(\u001b[0m\u001b[0mnp\u001b[0m\u001b[0;34m.\u001b[0m\u001b[0mtranspose\u001b[0m\u001b[0;34m(\u001b[0m\u001b[0mv_k\u001b[0m\u001b[0;34m)\u001b[0m\u001b[0;34m,\u001b[0m\u001b[0mQ\u001b[0m\u001b[0;34m[\u001b[0m\u001b[0mn\u001b[0m\u001b[0;34m-\u001b[0m\u001b[0mj\u001b[0m\u001b[0;34m-\u001b[0m\u001b[0;36m1\u001b[0m\u001b[0;34m:\u001b[0m\u001b[0mm\u001b[0m\u001b[0;34m,\u001b[0m\u001b[0;34m]\u001b[0m\u001b[0;34m)\u001b[0m\u001b[0;34m)\u001b[0m\u001b[0;34m\u001b[0m\u001b[0m\n\u001b[0m",
      "\u001b[0;31mValueError\u001b[0m: shapes (3,) and (2,4) not aligned: 3 (dim 0) != 2 (dim 0)"
     ]
    }
   ],
   "source": []
  },
  {
   "cell_type": "code",
   "execution_count": 326,
   "metadata": {
    "collapsed": false
   },
   "outputs": [
    {
     "data": {
      "text/plain": [
       "array([-0.51715656, -0.50587612, -0.45737023, -0.51715656])"
      ]
     },
     "execution_count": 326,
     "metadata": {},
     "output_type": "execute_result"
    }
   ],
   "source": [
    "v_k"
   ]
  },
  {
   "cell_type": "code",
   "execution_count": 296,
   "metadata": {
    "collapsed": false
   },
   "outputs": [
    {
     "data": {
      "text/plain": [
       "array([[ 0.,  0.,  0.],\n",
       "       [-2.,  0.,  0.],\n",
       "       [ 0., -2.,  0.],\n",
       "       [ 0.,  0.,  0.]])"
      ]
     },
     "execution_count": 296,
     "metadata": {},
     "output_type": "execute_result"
    }
   ],
   "source": [
    "(Q[:,j:n]*w)*(alpha*w)"
   ]
  },
  {
   "cell_type": "code",
   "execution_count": 299,
   "metadata": {
    "collapsed": false
   },
   "outputs": [
    {
     "data": {
      "text/plain": [
       "array([ 2.,  2.,  0.])"
      ]
     },
     "execution_count": 299,
     "metadata": {},
     "output_type": "execute_result"
    }
   ],
   "source": [
    "(alpha*w)"
   ]
  },
  {
   "cell_type": "code",
   "execution_count": 285,
   "metadata": {
    "collapsed": false
   },
   "outputs": [
    {
     "data": {
      "text/plain": [
       "array([[ 0.4776352 ,  3.82241798, -1.45576494],\n",
       "       [ 0.52722084,  4.21924179, -1.60689498],\n",
       "       [ 0.09196916,  0.7360106 , -0.28030907]])"
      ]
     },
     "execution_count": 285,
     "metadata": {},
     "output_type": "execute_result"
    }
   ],
   "source": [
    "2*np.outer(v_k,np.transpose(np.dot(np.transpose(v_k),R[j:m,j:n])))"
   ]
  },
  {
   "cell_type": "code",
   "execution_count": 280,
   "metadata": {
    "collapsed": false
   },
   "outputs": [
    {
     "data": {
      "text/plain": [
       "2.2082839624843231"
      ]
     },
     "execution_count": 280,
     "metadata": {},
     "output_type": "execute_result"
    }
   ],
   "source": [
    "v_k.dot(np.dot(np.transpose(v_k),R[j:m,j:n]))"
   ]
  },
  {
   "cell_type": "code",
   "execution_count": 383,
   "metadata": {
    "collapsed": false
   },
   "outputs": [
    {
     "data": {
      "text/plain": [
       "[5, 4, 3, 2, 1]"
      ]
     },
     "execution_count": 383,
     "metadata": {},
     "output_type": "execute_result"
    }
   ],
   "source": [
    "range(5,0,-1)"
   ]
  },
  {
   "cell_type": "code",
   "execution_count": 425,
   "metadata": {
    "collapsed": false
   },
   "outputs": [
    {
     "name": "stdout",
     "output_type": "stream",
     "text": [
      "0\n",
      "1\n",
      "2\n",
      "3\n"
     ]
    }
   ],
   "source": [
    "A = np.array([[0.34,0.4,0.3,0.9],[0.45,0.25,0.98,0.46],[0.923,0.34,3,-2],[0.34,-0.45,0.1,0.55]])\n",
    "m,n = A.shape\n",
    "R = A\n",
    "Q = np.eye(m)\n",
    "reflecMat = []\n",
    "for j in range(n):\n",
    "    print(j)\n",
    "    x = R[j:,j]\n",
    "    e_1 = np.zeros(len(x))\n",
    "    e_1 = 1\n",
    "    v_k = np.sign(x[0])*nla.norm(x)*e_1+x\n",
    "    v_k = v_k/nla.norm(v_k)\n",
    "    R[j:,j] = R[j:,j] - np.transpose(2*np.outer(v_k,np.transpose(np.dot(np.transpose(v_k),R[j:,j]))))\n",
    "    Q[j:,] = Q[j:,] - 2*np.outer(v_k,np.transpose(np.dot(np.transpose(v_k),Q[j:,])))"
   ]
  },
  {
   "cell_type": "code",
   "execution_count": 426,
   "metadata": {
    "collapsed": false
   },
   "outputs": [
    {
     "data": {
      "text/plain": [
       "array([[ 0.]])"
      ]
     },
     "execution_count": 426,
     "metadata": {},
     "output_type": "execute_result"
    }
   ],
   "source": [
    "R[j:,j] - np.transpose(np.outer(v_k,np.transpose(np.dot(np.transpose(v_k),R[j:,j]))))"
   ]
  },
  {
   "cell_type": "code",
   "execution_count": 427,
   "metadata": {
    "collapsed": false
   },
   "outputs": [
    {
     "data": {
      "text/plain": [
       "array([[ 0.60802985, -0.42122452, -0.54701829, -0.39197015],\n",
       "       [ 0.55462467,  0.70929065, -0.20477091,  0.38388426],\n",
       "       [-0.14018105,  0.55479145,  0.00460978, -0.82008199],\n",
       "       [ 0.5504911 , -0.10808851,  0.81167642, -0.16265855]])"
      ]
     },
     "execution_count": 427,
     "metadata": {},
     "output_type": "execute_result"
    }
   ],
   "source": [
    "Q"
   ]
  },
  {
   "cell_type": "code",
   "execution_count": 428,
   "metadata": {
    "collapsed": false
   },
   "outputs": [
    {
     "data": {
      "text/plain": [
       "(array([[-0.29986176, -0.45548197,  0.72189882, -0.4260061 ],\n",
       "        [-0.39687586, -0.16662497,  0.24300203,  0.86929609],\n",
       "        [-0.81403649, -0.07202495, -0.52451613, -0.23883014],\n",
       "        [-0.29986176,  0.87154157,  0.38038788, -0.07617926]]),\n",
       " array([[-1.13385581, -0.36099828, -2.95099251,  1.01071052],\n",
       "        [ 0.        , -0.64053122, -0.42885775,  0.1368165 ],\n",
       "        [ 0.        ,  0.        , -1.08079798,  2.01973547],\n",
       "        [ 0.        ,  0.        ,  0.        ,  0.45223238]]))"
      ]
     },
     "execution_count": 428,
     "metadata": {},
     "output_type": "execute_result"
    }
   ],
   "source": [
    "A = np.array([[0.34,0.4,0.3,0.9],[0.45,0.25,0.98,0.46],[0.923,0.34,3,-2],[0.34,-0.45,0.1,0.55]])\n",
    "nla.qr(A)"
   ]
  },
  {
   "cell_type": "code",
   "execution_count": null,
   "metadata": {
    "collapsed": true
   },
   "outputs": [],
   "source": []
  }
 ],
 "metadata": {
  "kernelspec": {
   "display_name": "Python 2",
   "language": "python",
   "name": "python2"
  },
  "language_info": {
   "codemirror_mode": {
    "name": "ipython",
    "version": 2
   },
   "file_extension": ".py",
   "mimetype": "text/x-python",
   "name": "python",
   "nbconvert_exporter": "python",
   "pygments_lexer": "ipython2",
   "version": "2.7.11"
  }
 },
 "nbformat": 4,
 "nbformat_minor": 0
}
