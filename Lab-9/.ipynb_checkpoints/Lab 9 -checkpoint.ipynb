{
 "cells": [
  {
   "cell_type": "code",
   "execution_count": 10,
   "metadata": {
    "collapsed": true
   },
   "outputs": [],
   "source": [
    "import numpy as np"
   ]
  },
  {
   "cell_type": "code",
   "execution_count": 11,
   "metadata": {
    "collapsed": true
   },
   "outputs": [],
   "source": [
    "def givens_qr(A):\n",
    "    m,n = A.shape\n",
    "    Q = np.eye(m)\n",
    "    R = A\n",
    "    for c in xrange(n):\n",
    "        for r in reversed(xrange(c+1, m)):  # m-1, m-2, ... c+2, c+1\n",
    "            # in this row and the previous row, use zeroing givens to\n",
    "            # place a zero in the lower row\n",
    "            coeffs = zeroing_givens_coeffs(R[r-1, c], R[r,c])\n",
    "            left_givensT(coeffs, R[:, c:], r-1, r) \n",
    "            # left_givensT(coeffs, A[r-1:r+1, c:], 0, 1)\n",
    "            left_givensT(coeffs, Q[:, c:], r-1, r)\n",
    "    return Q,R"
   ]
  },
  {
   "cell_type": "code",
   "execution_count": 12,
   "metadata": {
    "collapsed": true
   },
   "outputs": [],
   "source": [
    "# GvL, pg. 216 .... Section 5.1.9\n",
    "def left_givensT((c,s), A, r1, r2):\n",
    "    ''' update A <- G.T.dot(A) ... affects rows r1 and r2 '''\n",
    "    givensT = np.array([[ c, -s],   # manually transposed \n",
    "                        [ s,  c]])\n",
    "    A[[r1,r2],:] = np.dot(givensT, A[[r1,r2],:])\n",
    "\n",
    "# A.dot(G) .... affects two cols of A\n",
    "def right_givens((c,s), A, c1, c2):\n",
    "    ''' update A <- A.dot(G) ... affects cols c1 and c2 '''\n",
    "    givens = np.array([[ c, s],\n",
    "                       [-s, c]])\n",
    "    A[:,[c1, c2]] = np.dot(A[:,[c1, c2]], givens)"
   ]
  },
  {
   "cell_type": "code",
   "execution_count": 13,
   "metadata": {
    "collapsed": true
   },
   "outputs": [],
   "source": [
    "def zeroing_givens_coeffs(x,z):\n",
    "    ''' for the values x,z compute cos th, sin th \n",
    "        s.t. applying a Givens rotation G(cos th,sin th) \n",
    "             on 2 rows(or cols) with values x,z will\n",
    "             maps x --> r and z --> 0'''\n",
    "    if z == 0.0: # better:  abs(z) < np.finfo(np.double).eps\n",
    "        return 1.0,0.0\n",
    "    r = np.hypot(x,z) # C99 hypot is safe for under/overflow\n",
    "    return x/r, -z/r"
   ]
  },
  {
   "cell_type": "code",
   "execution_count": 14,
   "metadata": {
    "collapsed": false
   },
   "outputs": [],
   "source": [
    "A_mat = np.array([[0.34,0.4,0.3,0.9],[0.45,0.25,0.98,0.46],[0.923,0.34,3,-2],[0.34,-0.45,0.1,0.55]])\n",
    "Q = givens_qr(A_mat)"
   ]
  },
  {
   "cell_type": "code",
   "execution_count": 15,
   "metadata": {
    "collapsed": false
   },
   "outputs": [
    {
     "data": {
      "text/plain": [
       "array([[ 1.13385581e+00,  3.60998282e-01,  2.95099251e+00,\n",
       "        -1.01071052e+00],\n",
       "       [ 9.06184956e-18,  6.40531217e-01,  4.28857747e-01,\n",
       "        -1.36816497e-01],\n",
       "       [ 1.06905726e-17,  3.71148918e-19,  1.08079798e+00,\n",
       "        -2.01973547e+00],\n",
       "       [ 1.18171366e-17, -3.06702012e-18, -6.32942778e-18,\n",
       "         4.52232385e-01]])"
      ]
     },
     "execution_count": 15,
     "metadata": {},
     "output_type": "execute_result"
    }
   ],
   "source": [
    "R = A_mat\n",
    "R"
   ]
  },
  {
   "cell_type": "code",
   "execution_count": 16,
   "metadata": {
    "collapsed": false
   },
   "outputs": [
    {
     "data": {
      "text/plain": [
       "array([[[ 3.40000000e-01,  3.62460958e-01,  1.93490208e+00,\n",
       "         -1.86590376e+00],\n",
       "        [-1.08167879e+00, -2.37657607e-01, -2.66589287e+00,\n",
       "          4.01792612e-01],\n",
       "        [-9.94765808e-19, -1.48935380e-01,  4.67178599e-01,\n",
       "         -1.19959518e+00],\n",
       "        [-1.13568225e-17, -5.58644875e-01, -6.32159144e-01,\n",
       "          5.67248666e-01]],\n",
       "\n",
       "       [[ 1.28562900e+00,  6.40550669e-01,  6.69024364e+00,\n",
       "         -7.61269077e+00],\n",
       "        [ 1.90471839e-17,  4.10280240e-01,  7.38205361e-01,\n",
       "         -1.01568729e+00],\n",
       "        [-1.91572912e-19,  1.06927171e-17,  1.16812427e+00,\n",
       "         -3.09631579e+00],\n",
       "        [ 1.87430209e-17,  9.14438062e-19,  2.38537613e-17,\n",
       "          2.04514130e-01]]])"
      ]
     },
     "execution_count": 16,
     "metadata": {},
     "output_type": "execute_result"
    }
   ],
   "source": [
    "np.dot(Q, R)"
   ]
  },
  {
   "cell_type": "code",
   "execution_count": 17,
   "metadata": {
    "collapsed": false
   },
   "outputs": [
    {
     "data": {
      "text/plain": [
       "array([[[ 3.40000000e-01,  3.62460958e-01,  1.93490208e+00,\n",
       "         -1.86590376e+00],\n",
       "        [-1.08167879e+00, -2.37657607e-01, -2.66589287e+00,\n",
       "          4.01792612e-01],\n",
       "        [-9.94765808e-19, -1.48935380e-01,  4.67178599e-01,\n",
       "         -1.19959518e+00],\n",
       "        [-1.13568225e-17, -5.58644875e-01, -6.32159144e-01,\n",
       "          5.67248666e-01]],\n",
       "\n",
       "       [[ 1.28562900e+00,  6.40550669e-01,  6.69024364e+00,\n",
       "         -7.61269077e+00],\n",
       "        [ 1.90471839e-17,  4.10280240e-01,  7.38205361e-01,\n",
       "         -1.01568729e+00],\n",
       "        [-1.91572912e-19,  1.06927171e-17,  1.16812427e+00,\n",
       "         -3.09631579e+00],\n",
       "        [ 1.87430209e-17,  9.14438062e-19,  2.38537613e-17,\n",
       "          2.04514130e-01]]])"
      ]
     },
     "execution_count": 17,
     "metadata": {},
     "output_type": "execute_result"
    }
   ],
   "source": [
    "np.dot(Q,R)"
   ]
  },
  {
   "cell_type": "code",
   "execution_count": 18,
   "metadata": {
    "collapsed": true
   },
   "outputs": [],
   "source": [
    "import numpy.linalg as nla"
   ]
  },
  {
   "cell_type": "code",
   "execution_count": 20,
   "metadata": {
    "collapsed": false
   },
   "outputs": [
    {
     "data": {
      "text/plain": [
       "37.75729255859725"
      ]
     },
     "execution_count": 20,
     "metadata": {},
     "output_type": "execute_result"
    }
   ],
   "source": [
    "nla.cond(A_mat)"
   ]
  },
  {
   "cell_type": "code",
   "execution_count": 21,
   "metadata": {
    "collapsed": false
   },
   "outputs": [],
   "source": [
    "Q, R = nla.qr(A_mat)"
   ]
  },
  {
   "cell_type": "code",
   "execution_count": 22,
   "metadata": {
    "collapsed": false
   },
   "outputs": [
    {
     "data": {
      "text/plain": [
       "array([[ 1.13385581e+00,  3.60998282e-01,  2.95099251e+00,\n",
       "        -1.01071052e+00],\n",
       "       [ 9.06184956e-18,  6.40531217e-01,  4.28857747e-01,\n",
       "        -1.36816497e-01],\n",
       "       [ 1.06905726e-17,  3.71148918e-19,  1.08079798e+00,\n",
       "        -2.01973547e+00],\n",
       "       [ 1.18171366e-17, -3.06702012e-18, -6.32942778e-18,\n",
       "         4.52232385e-01]])"
      ]
     },
     "execution_count": 22,
     "metadata": {},
     "output_type": "execute_result"
    }
   ],
   "source": [
    "np.dot(Q,R)"
   ]
  },
  {
   "cell_type": "code",
   "execution_count": null,
   "metadata": {
    "collapsed": true
   },
   "outputs": [],
   "source": [
    "\n"
   ]
  },
  {
   "cell_type": "code",
   "execution_count": null,
   "metadata": {
    "collapsed": true
   },
   "outputs": [],
   "source": []
  },
  {
   "cell_type": "code",
   "execution_count": null,
   "metadata": {
    "collapsed": true
   },
   "outputs": [],
   "source": []
  },
  {
   "cell_type": "code",
   "execution_count": 23,
   "metadata": {
    "collapsed": false
   },
   "outputs": [
    {
     "name": "stdout",
     "output_type": "stream",
     "text": [
      "[[1. 2. 3.]\n",
      " [4. 5. 6.]\n",
      " [7. 8. 9.]]\n"
     ]
    }
   ],
   "source": [
    "A = np.array([[0.34,0.4,0.3,0.9],[0.45,0.25,0.98,0.46],[0.923,0.34,3,-2],[0.34,-0.45,0.1,0.55]])\n",
    "A = np.arange(1.0, 10.0).reshape(3,3)\n",
    "print A\n",
    "Q,R = givens_qr(A)"
   ]
  },
  {
   "cell_type": "code",
   "execution_count": 24,
   "metadata": {
    "collapsed": false
   },
   "outputs": [
    {
     "data": {
      "text/plain": [
       "array([[ 8.12403840e+00,  9.60113630e+00,  1.10782342e+01],\n",
       "       [-1.74738667e-17,  9.04534034e-01,  1.80906807e+00],\n",
       "       [-1.11022302e-16, -2.10803855e-17, -4.21607710e-17]])"
      ]
     },
     "execution_count": 24,
     "metadata": {},
     "output_type": "execute_result"
    }
   ],
   "source": [
    "R"
   ]
  },
  {
   "cell_type": "code",
   "execution_count": 25,
   "metadata": {
    "collapsed": false
   },
   "outputs": [
    {
     "data": {
      "text/plain": [
       "array([[ 1.00000000e+00,  1.62717995e+00,  2.25435991e+00],\n",
       "       [-8.06225775e+00, -9.25539552e+00, -1.04485333e+01],\n",
       "       [ 3.10573127e-17,  7.38548946e-01,  1.47709789e+00]])"
      ]
     },
     "execution_count": 25,
     "metadata": {},
     "output_type": "execute_result"
    }
   ],
   "source": [
    "np.dot(Q, R)"
   ]
  },
  {
   "cell_type": "code",
   "execution_count": 27,
   "metadata": {
    "collapsed": false
   },
   "outputs": [],
   "source": [
    "A_mat = np.array([[0.34,0.4,0.3,0.9],[0.45,0.25,0.98,0.46],[0.923,0.34,3,-2],[0.34,-0.45,0.1,0.55]])\n",
    "Q, R = givens_qr(A_mat)"
   ]
  },
  {
   "cell_type": "code",
   "execution_count": 28,
   "metadata": {
    "collapsed": false
   },
   "outputs": [
    {
     "data": {
      "text/plain": [
       "array([[ 1.13385581e+00,  3.60998282e-01,  2.95099251e+00,\n",
       "        -1.01071052e+00],\n",
       "       [ 9.06184956e-18,  6.40531217e-01,  4.28857747e-01,\n",
       "        -1.36816497e-01],\n",
       "       [ 1.06905726e-17,  3.71148918e-19,  1.08079798e+00,\n",
       "        -2.01973547e+00],\n",
       "       [ 1.18171366e-17, -3.06702012e-18, -6.32942778e-18,\n",
       "         4.52232385e-01]])"
      ]
     },
     "execution_count": 28,
     "metadata": {},
     "output_type": "execute_result"
    }
   ],
   "source": [
    "A_mat"
   ]
  },
  {
   "cell_type": "code",
   "execution_count": 29,
   "metadata": {
    "collapsed": false
   },
   "outputs": [
    {
     "data": {
      "text/plain": [
       "array([[ 3.40000000e-01,  3.62460958e-01,  1.93490208e+00,\n",
       "        -1.86590376e+00],\n",
       "       [-1.08167879e+00, -2.37657607e-01, -2.66589287e+00,\n",
       "         4.01792612e-01],\n",
       "       [-9.94765808e-19, -1.48935380e-01,  4.67178599e-01,\n",
       "        -1.19959518e+00],\n",
       "       [-1.13568225e-17, -5.58644875e-01, -6.32159144e-01,\n",
       "         5.67248666e-01]])"
      ]
     },
     "execution_count": 29,
     "metadata": {},
     "output_type": "execute_result"
    }
   ],
   "source": [
    "np.dot(Q,R)"
   ]
  },
  {
   "cell_type": "code",
   "execution_count": 30,
   "metadata": {
    "collapsed": false
   },
   "outputs": [
    {
     "data": {
      "text/plain": [
       "array([[ 0.34 ,  0.4  ,  0.3  ,  0.9  ],\n",
       "       [ 0.45 ,  0.25 ,  0.98 ,  0.46 ],\n",
       "       [ 0.923,  0.34 ,  3.   , -2.   ],\n",
       "       [ 0.34 , -0.45 ,  0.1  ,  0.55 ]])"
      ]
     },
     "execution_count": 30,
     "metadata": {},
     "output_type": "execute_result"
    }
   ],
   "source": [
    "A_mat = np.array([[0.34,0.4,0.3,0.9],[0.45,0.25,0.98,0.46],[0.923,0.34,3,-2],[0.34,-0.45,0.1,0.55]])\n",
    "A_mat"
   ]
  },
  {
   "cell_type": "code",
   "execution_count": null,
   "metadata": {
    "collapsed": true
   },
   "outputs": [],
   "source": []
  },
  {
   "cell_type": "code",
   "execution_count": null,
   "metadata": {
    "collapsed": true
   },
   "outputs": [],
   "source": []
  }
 ],
 "metadata": {
  "kernelspec": {
   "display_name": "Python 2",
   "language": "python",
   "name": "python2"
  },
  "language_info": {
   "codemirror_mode": {
    "name": "ipython",
    "version": 2
   },
   "file_extension": ".py",
   "mimetype": "text/x-python",
   "name": "python",
   "nbconvert_exporter": "python",
   "pygments_lexer": "ipython2",
   "version": "2.7.11"
  }
 },
 "nbformat": 4,
 "nbformat_minor": 0
}
