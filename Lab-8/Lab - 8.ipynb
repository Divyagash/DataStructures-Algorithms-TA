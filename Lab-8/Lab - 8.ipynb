{
 "cells": [
  {
   "cell_type": "markdown",
   "metadata": {},
   "source": [
    "# Matrix Norm"
   ]
  },
  {
   "cell_type": "code",
   "execution_count": 1,
   "metadata": {},
   "outputs": [],
   "source": [
    "import numpy as np"
   ]
  },
  {
   "cell_type": "code",
   "execution_count": 2,
   "metadata": {},
   "outputs": [],
   "source": [
    " b = np.array([[2,3,4],[5,7,9],[3,5,2]])"
   ]
  },
  {
   "cell_type": "code",
   "execution_count": 3,
   "metadata": {},
   "outputs": [
    {
     "data": {
      "text/plain": [
       "array([[2, 3, 4],\n",
       "       [5, 7, 9],\n",
       "       [3, 5, 2]])"
      ]
     },
     "execution_count": 3,
     "metadata": {},
     "output_type": "execute_result"
    }
   ],
   "source": [
    "b"
   ]
  },
  {
   "cell_type": "code",
   "execution_count": 4,
   "metadata": {},
   "outputs": [
    {
     "data": {
      "text/plain": [
       "21.0"
      ]
     },
     "execution_count": 4,
     "metadata": {},
     "output_type": "execute_result"
    }
   ],
   "source": [
    "np.linalg.norm(b,ord=np.inf)"
   ]
  },
  {
   "cell_type": "markdown",
   "metadata": {},
   "source": [
    "## Matrix Norm Identities"
   ]
  },
  {
   "cell_type": "markdown",
   "metadata": {},
   "source": [
    "$||\\gamma A|| = |\\gamma| \\times ||A||$ for any scalar $\\gamma$"
   ]
  },
  {
   "cell_type": "code",
   "execution_count": 5,
   "metadata": {},
   "outputs": [],
   "source": [
    " A = np.array([[-2,1,0],[5,9,9],[2,3,-2]])"
   ]
  },
  {
   "cell_type": "code",
   "execution_count": 6,
   "metadata": {},
   "outputs": [
    {
     "data": {
      "text/plain": [
       "13.75151857513156"
      ]
     },
     "execution_count": 6,
     "metadata": {},
     "output_type": "execute_result"
    }
   ],
   "source": [
    "np.linalg.norm(A,ord=2)"
   ]
  },
  {
   "cell_type": "code",
   "execution_count": 7,
   "metadata": {},
   "outputs": [
    {
     "data": {
      "text/plain": [
       "27.50303715026312"
      ]
     },
     "execution_count": 7,
     "metadata": {},
     "output_type": "execute_result"
    }
   ],
   "source": [
    "np.linalg.norm(2*A,ord=2)"
   ]
  },
  {
   "cell_type": "markdown",
   "metadata": {},
   "source": [
    "$||A+ B|| \\leq ||A|| + ||B||$"
   ]
  },
  {
   "cell_type": "code",
   "execution_count": 8,
   "metadata": {},
   "outputs": [],
   "source": [
    "a = np.random.normal(loc=5, size=9)\n",
    "A = a.reshape((3, 3))\n",
    "b = np.random.normal(loc=3, size=9)\n",
    "B = b.reshape((3, 3))"
   ]
  },
  {
   "cell_type": "code",
   "execution_count": 9,
   "metadata": {},
   "outputs": [],
   "source": [
    "a_norm = np.linalg.norm(A,ord=2)\n",
    "b_norm = np.linalg.norm(B,ord=2)\n",
    "sum_norm = np.linalg.norm(A+B,ord=2)"
   ]
  },
  {
   "cell_type": "code",
   "execution_count": 10,
   "metadata": {},
   "outputs": [
    {
     "name": "stdout",
     "output_type": "stream",
     "text": [
      "26.32920209180274\n",
      "26.098096773084148\n"
     ]
    }
   ],
   "source": [
    "print(a_norm + b_norm)\n",
    "print(sum_norm)"
   ]
  },
  {
   "cell_type": "markdown",
   "metadata": {},
   "source": [
    "$||AB|| \\leq ||A|| \\times ||B||$"
   ]
  },
  {
   "cell_type": "code",
   "execution_count": 11,
   "metadata": {},
   "outputs": [],
   "source": [
    "prod_norm = np.linalg.norm(np.dot(A,B),ord=2)"
   ]
  },
  {
   "cell_type": "code",
   "execution_count": 12,
   "metadata": {},
   "outputs": [
    {
     "name": "stdout",
     "output_type": "stream",
     "text": [
      "161.7150771147119\n",
      "157.08870582650772\n"
     ]
    }
   ],
   "source": [
    "print(a_norm * b_norm)\n",
    "print(prod_norm)"
   ]
  },
  {
   "cell_type": "markdown",
   "metadata": {},
   "source": [
    "$||Ax|| \\leq ||A|| \\times ||x||$ for any vector x"
   ]
  },
  {
   "cell_type": "code",
   "execution_count": 13,
   "metadata": {},
   "outputs": [],
   "source": [
    "x = np.array([[3],[4],[9.2]])"
   ]
  },
  {
   "cell_type": "code",
   "execution_count": 14,
   "metadata": {},
   "outputs": [],
   "source": [
    "vecProd_norm = np.linalg.norm(np.dot(A,x),ord=2)\n",
    "x_norm = np.linalg.norm(x,ord=2)"
   ]
  },
  {
   "cell_type": "code",
   "execution_count": 15,
   "metadata": {},
   "outputs": [
    {
     "name": "stdout",
     "output_type": "stream",
     "text": [
      "173.49517411632428\n",
      "151.4709694944202\n"
     ]
    }
   ],
   "source": [
    "print(a_norm * x_norm)\n",
    "print(vecProd_norm)"
   ]
  },
  {
   "cell_type": "code",
   "execution_count": null,
   "metadata": {},
   "outputs": [],
   "source": []
  },
  {
   "cell_type": "markdown",
   "metadata": {},
   "source": [
    "# Condition Number Identities"
   ]
  },
  {
   "cell_type": "code",
   "execution_count": 16,
   "metadata": {},
   "outputs": [
    {
     "data": {
      "text/plain": [
       "29.986374744128916"
      ]
     },
     "execution_count": 16,
     "metadata": {},
     "output_type": "execute_result"
    }
   ],
   "source": [
    "np.linalg.cond(A)"
   ]
  },
  {
   "cell_type": "markdown",
   "metadata": {},
   "source": [
    "For identity matrix cond(I) = 1"
   ]
  },
  {
   "cell_type": "code",
   "execution_count": 17,
   "metadata": {},
   "outputs": [
    {
     "data": {
      "text/plain": [
       "1.0"
      ]
     },
     "execution_count": 17,
     "metadata": {},
     "output_type": "execute_result"
    }
   ],
   "source": [
    "np.linalg.cond(np.identity(15))"
   ]
  },
  {
   "cell_type": "markdown",
   "metadata": {},
   "source": [
    "For any matrix $A$ and scalar $\\gamma$, cond($\\gamma A$) = cond(A)"
   ]
  },
  {
   "cell_type": "code",
   "execution_count": 18,
   "metadata": {},
   "outputs": [
    {
     "name": "stdout",
     "output_type": "stream",
     "text": [
      "29.986374744128828\n",
      "29.986374744128895\n"
     ]
    }
   ],
   "source": [
    "print(np.linalg.cond(A*5))\n",
    "print(np.linalg.cond(A*15))"
   ]
  },
  {
   "cell_type": "markdown",
   "metadata": {},
   "source": [
    "For any diagonal matrix $D = diag(d_i)$, cond(D) = $\\frac{max|d_i|}{min|d_i|}$"
   ]
  },
  {
   "cell_type": "code",
   "execution_count": 19,
   "metadata": {},
   "outputs": [],
   "source": [
    "D = np.array([[3,0,0,0],[0,6,0,0],[0,0,2,0],[0,0,0,-2]])"
   ]
  },
  {
   "cell_type": "code",
   "execution_count": 20,
   "metadata": {},
   "outputs": [
    {
     "data": {
      "text/plain": [
       "3.0"
      ]
     },
     "execution_count": 20,
     "metadata": {},
     "output_type": "execute_result"
    }
   ],
   "source": [
    "np.linalg.cond(D)"
   ]
  },
  {
   "cell_type": "markdown",
   "metadata": {},
   "source": [
    "# Gaussian Elemintation"
   ]
  },
  {
   "cell_type": "markdown",
   "metadata": {},
   "source": [
    "### Assuming matrices are in the traingular form"
   ]
  },
  {
   "cell_type": "code",
   "execution_count": 21,
   "metadata": {},
   "outputs": [],
   "source": [
    "def gaussElem_lower(A, b):\n",
    "    \"\"\"\n",
    "    Given lower triangular matrix, solves the system of equations\n",
    "    \"\"\"\n",
    "    \n",
    "    n = len(b)\n",
    "    x = [None]* n\n",
    "    for j in range(n):\n",
    "        if A[j,j] == 0:\n",
    "            print('Matrix provided is singular')\n",
    "            break\n",
    "        x[j] = b[j]/A[j,j]\n",
    "        for i in range(j+1, n):\n",
    "            b[i] = b[i] - A[i,j]*x[j]\n",
    "    return(x)\n",
    "            \n",
    "    \n",
    "    \n",
    "    "
   ]
  },
  {
   "cell_type": "code",
   "execution_count": 22,
   "metadata": {},
   "outputs": [],
   "source": [
    "A = np.array([[4,0,0],[1,1,0],[-2,4,2]])\n",
    "c = [8,4,2]"
   ]
  },
  {
   "cell_type": "code",
   "execution_count": 23,
   "metadata": {},
   "outputs": [
    {
     "data": {
      "text/plain": [
       "[2.0, 2.0, -1.0]"
      ]
     },
     "execution_count": 23,
     "metadata": {},
     "output_type": "execute_result"
    }
   ],
   "source": [
    "gaussElem_lower(A, c)"
   ]
  },
  {
   "cell_type": "code",
   "execution_count": 24,
   "metadata": {},
   "outputs": [
    {
     "name": "stdout",
     "output_type": "stream",
     "text": [
      "Matrix provided is singular\n"
     ]
    },
    {
     "data": {
      "text/plain": [
       "[2.0, None, None]"
      ]
     },
     "execution_count": 24,
     "metadata": {},
     "output_type": "execute_result"
    }
   ],
   "source": [
    "A = np.array([[4,0,0],[1,0,0],[-2,4,2]])\n",
    "c = [8,4,2]\n",
    "gaussElem_lower(A, c)"
   ]
  },
  {
   "cell_type": "code",
   "execution_count": 25,
   "metadata": {},
   "outputs": [
    {
     "data": {
      "text/plain": [
       "3"
      ]
     },
     "execution_count": 25,
     "metadata": {},
     "output_type": "execute_result"
    }
   ],
   "source": [
    "A.shape[1]"
   ]
  },
  {
   "cell_type": "code",
   "execution_count": null,
   "metadata": {},
   "outputs": [],
   "source": []
  },
  {
   "cell_type": "code",
   "execution_count": 26,
   "metadata": {},
   "outputs": [],
   "source": [
    "class SystemSolver():\n",
    "    def __init__(self,data = []):\n",
    "        # constructor - empty array\n",
    "        self.data = data\n",
    "\n",
    "    \n",
    "    def LUFactorization(self, A):\n",
    "        nrows = A.shape[0]\n",
    "        ncols = A.shape[1]\n",
    "        n = nrows\n",
    "        if nrows == ncols:\n",
    "            L = np.identity(n)\n",
    "            U = A\n",
    "            for i in range(n-1):\n",
    "                for j in range(i+1,n):\n",
    "                    L[j, i] = U[j,i]/float(U[i,i])\n",
    "                    U[j,i:n] = U[j,i:n] - (float(L[j,i]) * U[i,i:n])\n",
    "        return(L,U)\n",
    "            \n",
    "        \n",
    "    def systemSolve(self, A, b):\n",
    "        L,U = self.LUFactorization(A)\n",
    "        \n",
    "        # Forward substitution with L\n",
    "        n = len(b)\n",
    "        c = [None]* n\n",
    "        for j in range(n):\n",
    "            c[j] = b[j]/float(L[j,j])\n",
    "            #print(c[j])\n",
    "            for i in range(j+1, n):\n",
    "                b[i] = b[i] - L[i,j]*c[j]\n",
    "\n",
    "                \n",
    "        # Backward substitution with U \n",
    "        x = [None]* n\n",
    "        for j in range(n-1,-1,-1):\n",
    "            x[j] = c[j]/float(U[j,j])\n",
    "            for i in range(j):\n",
    "                c[i] = c[i] - U[i,j]*x[j]\n",
    "                \n",
    "        return(x)\n",
    "                \n",
    "            \n",
    "            \n",
    "        \n",
    "        \n"
   ]
  },
  {
   "cell_type": "code",
   "execution_count": 27,
   "metadata": {},
   "outputs": [
    {
     "data": {
      "text/plain": [
       "[1.0, 1.0, -2.0]"
      ]
     },
     "execution_count": 27,
     "metadata": {},
     "output_type": "execute_result"
    }
   ],
   "source": [
    "SS = SystemSolver()\n",
    "A = np.array([[7,6,10],[3,8,7],[3,5,5]])\n",
    "A = A.astype(float)\n",
    "vec = [-7,-3,-2]\n",
    "SS.systemSolve(A,vec)"
   ]
  },
  {
   "cell_type": "code",
   "execution_count": 28,
   "metadata": {},
   "outputs": [],
   "source": [
    "L,U = SS.LUFactorization(A)"
   ]
  },
  {
   "cell_type": "code",
   "execution_count": 29,
   "metadata": {},
   "outputs": [
    {
     "data": {
      "text/plain": [
       "[1.0, 1.0, -2.0]"
      ]
     },
     "execution_count": 29,
     "metadata": {},
     "output_type": "execute_result"
    }
   ],
   "source": [
    "SS.systemSolve(U,[-7.0, 0.0, 1.0])"
   ]
  },
  {
   "cell_type": "code",
   "execution_count": 30,
   "metadata": {},
   "outputs": [
    {
     "data": {
      "text/plain": [
       "(array([[1.        , 0.        , 0.        ],\n",
       "        [0.42857143, 1.        , 0.        ],\n",
       "        [0.42857143, 0.44736842, 1.        ]]),\n",
       " array([[ 7.        ,  6.        , 10.        ],\n",
       "        [ 0.        ,  5.42857143,  2.71428571],\n",
       "        [ 0.        ,  0.        , -0.5       ]]))"
      ]
     },
     "execution_count": 30,
     "metadata": {},
     "output_type": "execute_result"
    }
   ],
   "source": [
    "A = np.array([[7,6,10],[3,8,7],[3,5,5]])\n",
    "vec = [-7,-3,-2]\n",
    "A = A.astype(float)\n",
    "SS.LUFactorization(A)"
   ]
  },
  {
   "cell_type": "code",
   "execution_count": 31,
   "metadata": {},
   "outputs": [
    {
     "data": {
      "text/plain": [
       "[-4.526315789473684, -2.5526315789473686, 4.0]"
      ]
     },
     "execution_count": 31,
     "metadata": {},
     "output_type": "execute_result"
    }
   ],
   "source": [
    "SS.systemSolve(A,vec)"
   ]
  },
  {
   "cell_type": "code",
   "execution_count": 32,
   "metadata": {},
   "outputs": [
    {
     "data": {
      "text/plain": [
       "[1.0, -1.0, -0.0, 2.0]"
      ]
     },
     "execution_count": 32,
     "metadata": {},
     "output_type": "execute_result"
    }
   ],
   "source": [
    "SS = SystemSolver()\n",
    "A = np.array([[2,1,-2,3],[3,0,4,-2],[2,-1,1,5],[5,2,3,1]])\n",
    "A = A.astype(float)\n",
    "vec = [7,-1,13,5]\n",
    "SS.systemSolve(A,vec)"
   ]
  },
  {
   "cell_type": "code",
   "execution_count": null,
   "metadata": {
    "collapsed": true
   },
   "outputs": [],
   "source": []
  }
 ],
 "metadata": {
  "kernelspec": {
   "display_name": "Python 3",
   "language": "python",
   "name": "python3"
  },
  "language_info": {
   "codemirror_mode": {
    "name": "ipython",
    "version": 3
   },
   "file_extension": ".py",
   "mimetype": "text/x-python",
   "name": "python",
   "nbconvert_exporter": "python",
   "pygments_lexer": "ipython3",
   "version": "3.6.5"
  }
 },
 "nbformat": 4,
 "nbformat_minor": 1
}
