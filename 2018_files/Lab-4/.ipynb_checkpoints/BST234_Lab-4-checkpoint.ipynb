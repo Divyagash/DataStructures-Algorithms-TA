{
 "cells": [
  {
   "cell_type": "markdown",
   "metadata": {},
   "source": [
    "# Threading"
   ]
  },
  {
   "cell_type": "code",
   "execution_count": 1,
   "metadata": {},
   "outputs": [],
   "source": [
    "import threading\n",
    "import time"
   ]
  },
  {
   "cell_type": "code",
   "execution_count": 4,
   "metadata": {},
   "outputs": [],
   "source": [
    "def worker(num):\n",
    "    print (\"sleeping 5 sec from thread %d\" % num)\n",
    "    time.sleep(5)\n",
    "    print (\"finished sleeping from thread %d\" % num)"
   ]
  },
  {
   "cell_type": "code",
   "execution_count": 5,
   "metadata": {},
   "outputs": [
    {
     "name": "stdout",
     "output_type": "stream",
     "text": [
      "sleeping 5 sec from thread 0\n",
      "sleeping 5 sec from thread 1\n",
      "sleeping 5 sec from thread 2\n",
      "sleeping 5 sec from thread 3\n",
      "sleeping 5 sec from thread 4\n"
     ]
    }
   ],
   "source": [
    "for i in range(5):\n",
    "    # Constructor for threading with worker as the callable object\n",
    "    t = threading.Thread(target=worker, args=(i,)) \n",
    "    t.start()"
   ]
  },
  {
   "cell_type": "code",
   "execution_count": 6,
   "metadata": {},
   "outputs": [
    {
     "name": "stdout",
     "output_type": "stream",
     "text": [
      "sleeping 5 sec from thread 0\n",
      "finished sleeping from thread 0\n",
      "finished sleeping from thread 1\n",
      "finished sleeping from thread 2\n",
      "finished sleeping from thread 3\n",
      "finished sleeping from thread 4\n",
      "finished sleeping from thread 0\n",
      "sleeping 5 sec from thread 1\n",
      "finished sleeping from thread 1\n",
      "sleeping 5 sec from thread 2\n",
      "finished sleeping from thread 2\n",
      "sleeping 5 sec from thread 3\n",
      "finished sleeping from thread 3\n",
      "sleeping 5 sec from thread 4\n",
      "finished sleeping from thread 4\n"
     ]
    }
   ],
   "source": [
    "for i in range(5):\n",
    "    worker(i)"
   ]
  },
  {
   "cell_type": "code",
   "execution_count": null,
   "metadata": {},
   "outputs": [],
   "source": []
  },
  {
   "cell_type": "code",
   "execution_count": null,
   "metadata": {},
   "outputs": [],
   "source": []
  },
  {
   "cell_type": "markdown",
   "metadata": {},
   "source": [
    "# Multiprocessing"
   ]
  },
  {
   "cell_type": "code",
   "execution_count": 14,
   "metadata": {},
   "outputs": [
    {
     "ename": "ModuleNotFoundError",
     "evalue": "No module named 'progressbar2'",
     "output_type": "error",
     "traceback": [
      "\u001b[0;31m---------------------------------------------------------------------------\u001b[0m",
      "\u001b[0;31mModuleNotFoundError\u001b[0m                       Traceback (most recent call last)",
      "\u001b[0;32m<ipython-input-14-4d8828a941d4>\u001b[0m in \u001b[0;36m<module>\u001b[0;34m()\u001b[0m\n\u001b[1;32m      1\u001b[0m \u001b[0;32mimport\u001b[0m \u001b[0mmultiprocessing\u001b[0m\u001b[0;34m\u001b[0m\u001b[0m\n\u001b[1;32m      2\u001b[0m \u001b[0;32mimport\u001b[0m \u001b[0mtime\u001b[0m\u001b[0;34m\u001b[0m\u001b[0m\n\u001b[0;32m----> 3\u001b[0;31m \u001b[0;32mimport\u001b[0m \u001b[0mprogressbar2\u001b[0m\u001b[0;34m\u001b[0m\u001b[0m\n\u001b[0m\u001b[1;32m      4\u001b[0m \u001b[0;31m# If you are getting an error with the modules, first install them (pip install #package-name)\u001b[0m\u001b[0;34m\u001b[0m\u001b[0;34m\u001b[0m\u001b[0m\n",
      "\u001b[0;31mModuleNotFoundError\u001b[0m: No module named 'progressbar2'"
     ]
    }
   ],
   "source": [
    "import multiprocessing\n",
    "import time\n",
    "import progressbar2\n",
    "# If you are getting an error with the modules, first install them (pip install #package-name)"
   ]
  },
  {
   "cell_type": "code",
   "execution_count": 10,
   "metadata": {},
   "outputs": [
    {
     "name": "stdout",
     "output_type": "stream",
     "text": [
      "worker0 Starting\n",
      "worker1 Starting\n"
     ]
    },
    {
     "name": "stderr",
     "output_type": "stream",
     "text": [
      "Process worker0:\n"
     ]
    },
    {
     "name": "stdout",
     "output_type": "stream",
     "text": [
      "worker2 Starting\n",
      "worker3 Starting\n"
     ]
    },
    {
     "name": "stderr",
     "output_type": "stream",
     "text": [
      "Process worker1:\n",
      "Process worker2:\n",
      "Process worker3:\n",
      "Traceback (most recent call last):\n",
      "  File \"/Library/Frameworks/Python.framework/Versions/3.6/lib/python3.6/multiprocessing/process.py\", line 258, in _bootstrap\n",
      "    self.run()\n",
      "Traceback (most recent call last):\n",
      "Traceback (most recent call last):\n",
      "  File \"/Library/Frameworks/Python.framework/Versions/3.6/lib/python3.6/multiprocessing/process.py\", line 258, in _bootstrap\n",
      "    self.run()\n",
      "  File \"/Library/Frameworks/Python.framework/Versions/3.6/lib/python3.6/multiprocessing/process.py\", line 258, in _bootstrap\n",
      "    self.run()\n",
      "  File \"/Library/Frameworks/Python.framework/Versions/3.6/lib/python3.6/multiprocessing/process.py\", line 93, in run\n",
      "    self._target(*self._args, **self._kwargs)\n",
      "  File \"/Library/Frameworks/Python.framework/Versions/3.6/lib/python3.6/multiprocessing/process.py\", line 93, in run\n",
      "    self._target(*self._args, **self._kwargs)\n",
      "Traceback (most recent call last):\n",
      "  File \"/Library/Frameworks/Python.framework/Versions/3.6/lib/python3.6/multiprocessing/process.py\", line 93, in run\n",
      "    self._target(*self._args, **self._kwargs)\n",
      "  File \"/Library/Frameworks/Python.framework/Versions/3.6/lib/python3.6/multiprocessing/process.py\", line 258, in _bootstrap\n",
      "    self.run()\n",
      "  File \"<ipython-input-10-c71e53299671>\", line 4, in worker\n",
      "    bar = progressbar.ProgressBar()\n",
      "  File \"<ipython-input-10-c71e53299671>\", line 4, in worker\n",
      "    bar = progressbar.ProgressBar()\n",
      "  File \"<ipython-input-10-c71e53299671>\", line 4, in worker\n",
      "    bar = progressbar.ProgressBar()\n",
      "  File \"/Library/Frameworks/Python.framework/Versions/3.6/lib/python3.6/multiprocessing/process.py\", line 93, in run\n",
      "    self._target(*self._args, **self._kwargs)\n",
      "NameError: name 'progressbar' is not defined\n",
      "NameError: name 'progressbar' is not defined\n",
      "  File \"<ipython-input-10-c71e53299671>\", line 4, in worker\n",
      "    bar = progressbar.ProgressBar()\n",
      "NameError: name 'progressbar' is not defined\n",
      "NameError: name 'progressbar' is not defined\n"
     ]
    }
   ],
   "source": [
    "def worker(num):\n",
    "    name = multiprocessing.current_process().name\n",
    "    print(name, 'Starting')\n",
    "    bar = progressbar.ProgressBar()\n",
    "    for i in bar(range(100)):\n",
    "        print ('Worker:', num)\n",
    "        time.sleep(0.1)\n",
    "        bar.update(i)\n",
    "    print(name, 'Exiting')\n",
    "    return\n",
    "\n",
    "if __name__ == '__main__':\n",
    "    for i in range(4):\n",
    "        p = multiprocessing.Process(target=worker,name='worker' + str(i), args=(i,))\n",
    "        p.start()"
   ]
  },
  {
   "cell_type": "code",
   "execution_count": null,
   "metadata": {},
   "outputs": [],
   "source": []
  },
  {
   "cell_type": "code",
   "execution_count": null,
   "metadata": {},
   "outputs": [],
   "source": []
  }
 ],
 "metadata": {
  "kernelspec": {
   "display_name": "Python 3",
   "language": "python",
   "name": "python3"
  },
  "language_info": {
   "codemirror_mode": {
    "name": "ipython",
    "version": 3
   },
   "file_extension": ".py",
   "mimetype": "text/x-python",
   "name": "python",
   "nbconvert_exporter": "python",
   "pygments_lexer": "ipython3",
   "version": "3.6.5"
  }
 },
 "nbformat": 4,
 "nbformat_minor": 1
}
