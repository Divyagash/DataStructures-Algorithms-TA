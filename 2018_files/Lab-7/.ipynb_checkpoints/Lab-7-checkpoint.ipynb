{
 "cells": [
  {
   "cell_type": "markdown",
   "metadata": {},
   "source": [
    "# Psuedo Random Number Generation (PRNG)"
   ]
  },
  {
   "cell_type": "code",
   "execution_count": 1,
   "metadata": {},
   "outputs": [],
   "source": [
    "import matplotlib.pyplot as plt\n",
    "import numpy as np"
   ]
  },
  {
   "cell_type": "code",
   "execution_count": 2,
   "metadata": {},
   "outputs": [],
   "source": [
    "%matplotlib inline"
   ]
  },
  {
   "cell_type": "code",
   "execution_count": 3,
   "metadata": {},
   "outputs": [],
   "source": [
    "def midSqaureMethod(seed, rep):\n",
    "    sequence = []\n",
    "    square = seed**2\n",
    "    for i in range(rep):\n",
    "        number = str(square)\n",
    "        number = number.zfill(8)\n",
    "        new = int(number[2:6])\n",
    "        sequence.append(float(new)/10000)\n",
    "        square = new**2\n",
    "    return sequence\n",
    "        \n",
    "        "
   ]
  },
  {
   "cell_type": "markdown",
   "metadata": {},
   "source": [
    "# Checking the uniformity "
   ]
  },
  {
   "cell_type": "code",
   "execution_count": 4,
   "metadata": {},
   "outputs": [],
   "source": [
    "Seq1 = midSqaureMethod(4539, 30)"
   ]
  },
  {
   "cell_type": "code",
   "execution_count": 5,
   "metadata": {},
   "outputs": [
    {
     "data": {
      "text/plain": [
       "Text(0,0.5,'Frequency')"
      ]
     },
     "execution_count": 5,
     "metadata": {},
     "output_type": "execute_result"
    },
    {
     "data": {
      "image/png": "[encoded data removed]",
      "text/plain": [
       "<Figure size 432x288 with 1 Axes>"
      ]
     },
     "metadata": {},
     "output_type": "display_data"
    }
   ],
   "source": [
    "plt.hist(Seq1)\n",
    "plt.title(\"Histogram random numbers generated by mid-square method\")\n",
    "plt.xlabel(\"Value\")\n",
    "plt.ylabel(\"Frequency\")"
   ]
  },
  {
   "cell_type": "code",
   "execution_count": 6,
   "metadata": {},
   "outputs": [
    {
     "data": {
      "text/plain": [
       "[0.4484,\n",
       " 0.1062,\n",
       " 0.1278,\n",
       " 0.6332,\n",
       " 0.0942,\n",
       " 0.8873,\n",
       " 0.7301,\n",
       " 0.3046,\n",
       " 0.2781,\n",
       " 0.7339,\n",
       " 0.8609,\n",
       " 0.1148,\n",
       " 0.3179,\n",
       " 0.106,\n",
       " 0.1236,\n",
       " 0.5276,\n",
       " 0.8361,\n",
       " 0.9063,\n",
       " 0.1379,\n",
       " 0.9016,\n",
       " 0.2882,\n",
       " 0.3059,\n",
       " 0.3574,\n",
       " 0.7734,\n",
       " 0.8147,\n",
       " 0.3736,\n",
       " 0.9576,\n",
       " 0.6997,\n",
       " 0.958,\n",
       " 0.7764,\n",
       " 0.2796,\n",
       " 0.8176,\n",
       " 0.8469,\n",
       " 0.7239,\n",
       " 0.4031,\n",
       " 0.2489,\n",
       " 0.1951,\n",
       " 0.8064,\n",
       " 0.028,\n",
       " 0.0784,\n",
       " 0.6146,\n",
       " 0.7733,\n",
       " 0.7992,\n",
       " 0.872,\n",
       " 0.0384,\n",
       " 0.1474,\n",
       " 0.1726,\n",
       " 0.979,\n",
       " 0.8441,\n",
       " 0.2504,\n",
       " 0.27,\n",
       " 0.29,\n",
       " 0.41,\n",
       " 0.81,\n",
       " 0.61,\n",
       " 0.21,\n",
       " 0.41,\n",
       " 0.81,\n",
       " 0.61,\n",
       " 0.21,\n",
       " 0.41,\n",
       " 0.81,\n",
       " 0.61,\n",
       " 0.21,\n",
       " 0.41,\n",
       " 0.81,\n",
       " 0.61,\n",
       " 0.21,\n",
       " 0.41,\n",
       " 0.81,\n",
       " 0.61,\n",
       " 0.21,\n",
       " 0.41,\n",
       " 0.81,\n",
       " 0.61,\n",
       " 0.21,\n",
       " 0.41,\n",
       " 0.81,\n",
       " 0.61,\n",
       " 0.21,\n",
       " 0.41,\n",
       " 0.81,\n",
       " 0.61,\n",
       " 0.21,\n",
       " 0.41,\n",
       " 0.81,\n",
       " 0.61,\n",
       " 0.21,\n",
       " 0.41,\n",
       " 0.81,\n",
       " 0.61,\n",
       " 0.21,\n",
       " 0.41,\n",
       " 0.81,\n",
       " 0.61,\n",
       " 0.21,\n",
       " 0.41,\n",
       " 0.81,\n",
       " 0.61,\n",
       " 0.21]"
      ]
     },
     "execution_count": 6,
     "metadata": {},
     "output_type": "execute_result"
    }
   ],
   "source": [
    "midSqaureMethod(4522, 100)"
   ]
  },
  {
   "cell_type": "markdown",
   "metadata": {},
   "source": [
    "# Linear Congruential Generators"
   ]
  },
  {
   "cell_type": "code",
   "execution_count": 7,
   "metadata": {},
   "outputs": [],
   "source": [
    "def linCongruentialGen(seed, a, c, m, rep):\n",
    "    seq = []\n",
    "    seq.append(seed)\n",
    "    for i in range(1, rep):\n",
    "        new = (a*seq[i-1]+c) % m\n",
    "        seq.append(new)\n",
    "    seq = [x/float(m) for x in seq]\n",
    "    return seq\n",
    "    "
   ]
  },
  {
   "cell_type": "code",
   "execution_count": 8,
   "metadata": {},
   "outputs": [],
   "source": [
    "a = linCongruentialGen(232, 23, 2, 2312312, 10000)"
   ]
  },
  {
   "cell_type": "code",
   "execution_count": 9,
   "metadata": {},
   "outputs": [
    {
     "data": {
      "text/plain": [
       "Text(0,0.5,'Frequency')"
      ]
     },
     "execution_count": 9,
     "metadata": {},
     "output_type": "execute_result"
    },
    {
     "data": {
      "image/png": "[encoded data removed]",
      "text/plain": [
       "<Figure size 432x288 with 1 Axes>"
      ]
     },
     "metadata": {},
     "output_type": "display_data"
    }
   ],
   "source": [
    "plt.hist(a)\n",
    "plt.title(\"Histogram random numbers generated by Linear Congruential Generators\")\n",
    "plt.xlabel(\"Value\")\n",
    "plt.ylabel(\"Frequency\")"
   ]
  },
  {
   "cell_type": "code",
   "execution_count": 10,
   "metadata": {},
   "outputs": [],
   "source": [
    "b = linCongruentialGen(232, 23, 2, 312, 10000)"
   ]
  },
  {
   "cell_type": "code",
   "execution_count": 11,
   "metadata": {},
   "outputs": [
    {
     "data": {
      "text/plain": [
       "Text(0,0.5,'Frequency')"
      ]
     },
     "execution_count": 11,
     "metadata": {},
     "output_type": "execute_result"
    },
    {
     "data": {
      "image/png": "[encoded data removed]",
      "text/plain": [
       "<Figure size 432x288 with 1 Axes>"
      ]
     },
     "metadata": {},
     "output_type": "display_data"
    }
   ],
   "source": [
    "plt.hist(b)\n",
    "plt.title(\"Histogram random numbers generated by Linear Congruential Generators\")\n",
    "plt.xlabel(\"Value\")\n",
    "plt.ylabel(\"Frequency\")"
   ]
  },
  {
   "cell_type": "markdown",
   "metadata": {},
   "source": [
    "# Mersenne Twister"
   ]
  },
  {
   "cell_type": "code",
   "execution_count": 12,
   "metadata": {},
   "outputs": [],
   "source": [
    "import random\n",
    "import numpy as np\n",
    "import math\n",
    "import itertools\n",
    "import scipy.spatial.distance"
   ]
  },
  {
   "cell_type": "markdown",
   "metadata": {},
   "source": [
    "# Doing some diehard tests"
   ]
  },
  {
   "cell_type": "markdown",
   "metadata": {},
   "source": [
    "### Minimum Distance Test"
   ]
  },
  {
   "cell_type": "code",
   "execution_count": 13,
   "metadata": {},
   "outputs": [],
   "source": [
    "distList = []\n",
    "for i in range(100):\n",
    "    seq1 = np.random.uniform(0,10000,8000)\n",
    "    seq2 = np.random.uniform(0,10000,8000)\n",
    "    \n",
    "    combined = np.vstack((seq1, seq2)).T\n",
    "    \n",
    "    a = scipy.spatial.distance.pdist(combined)\n",
    "    \n",
    "    distList.append(min(a))"
   ]
  },
  {
   "cell_type": "code",
   "execution_count": 14,
   "metadata": {},
   "outputs": [],
   "source": [
    "u = [a**2 for a in distList]"
   ]
  },
  {
   "cell_type": "code",
   "execution_count": 15,
   "metadata": {},
   "outputs": [
    {
     "data": {
      "text/plain": [
       "Text(0,0.5,'Frequency')"
      ]
     },
     "execution_count": 15,
     "metadata": {},
     "output_type": "execute_result"
    },
    {
     "data": {
      "image/png": "[encoded data removed]",
      "text/plain": [
       "<Figure size 432x288 with 1 Axes>"
      ]
     },
     "metadata": {},
     "output_type": "display_data"
    }
   ],
   "source": [
    "plt.hist(u)\n",
    "plt.title(\"Distribution from minimum-distance test\")\n",
    "plt.xlabel(\"Value\")\n",
    "plt.ylabel(\"Frequency\")"
   ]
  },
  {
   "cell_type": "markdown",
   "metadata": {},
   "source": [
    "## The Overlapping Sums Test"
   ]
  },
  {
   "cell_type": "code",
   "execution_count": 16,
   "metadata": {},
   "outputs": [],
   "source": [
    "seq1 = np.random.uniform(0,1,100000)"
   ]
  },
  {
   "cell_type": "code",
   "execution_count": 17,
   "metadata": {},
   "outputs": [],
   "source": [
    "partialSum = []\n",
    "for i in range(20000):\n",
    "    partialSum.append(sum(seq1[i:i+100]))"
   ]
  },
  {
   "cell_type": "code",
   "execution_count": 18,
   "metadata": {},
   "outputs": [
    {
     "data": {
      "text/plain": [
       "Text(0,0.5,'Frequency')"
      ]
     },
     "execution_count": 18,
     "metadata": {},
     "output_type": "execute_result"
    },
    {
     "data": {
      "image/png": "[encoded data removed]",
      "text/plain": [
       "<Figure size 432x288 with 1 Axes>"
      ]
     },
     "metadata": {},
     "output_type": "display_data"
    }
   ],
   "source": [
    "plt.hist(partialSum)\n",
    "plt.title(\"Distribution from overlapping sums test\")\n",
    "plt.xlabel(\"Value\")\n",
    "plt.ylabel(\"Frequency\")"
   ]
  },
  {
   "cell_type": "code",
   "execution_count": null,
   "metadata": {},
   "outputs": [],
   "source": []
  },
  {
   "cell_type": "markdown",
   "metadata": {},
   "source": [
    "# Truncation error"
   ]
  },
  {
   "cell_type": "code",
   "execution_count": 19,
   "metadata": {},
   "outputs": [],
   "source": [
    "import math"
   ]
  },
  {
   "cell_type": "code",
   "execution_count": 20,
   "metadata": {},
   "outputs": [
    {
     "data": {
      "text/plain": [
       "0.0"
      ]
     },
     "execution_count": 20,
     "metadata": {},
     "output_type": "execute_result"
    }
   ],
   "source": [
    "math.sin(0)"
   ]
  },
  {
   "cell_type": "code",
   "execution_count": 21,
   "metadata": {},
   "outputs": [],
   "source": [
    "def sinTaylorApprox(x):\n",
    "    out = x - ((x**3)/float(math.factorial(3))) +  ((x**5)/float(math.factorial(5))) - ((x**7)/float(math.factorial(7)))\n",
    "    return(out)"
   ]
  },
  {
   "cell_type": "code",
   "execution_count": 22,
   "metadata": {},
   "outputs": [
    {
     "data": {
      "text/plain": [
       "0.841468253968254"
      ]
     },
     "execution_count": 22,
     "metadata": {},
     "output_type": "execute_result"
    }
   ],
   "source": [
    "sinTaylorApprox(1)"
   ]
  },
  {
   "cell_type": "code",
   "execution_count": 23,
   "metadata": {},
   "outputs": [
    {
     "data": {
      "text/plain": [
       "0.8414709848078965"
      ]
     },
     "execution_count": 23,
     "metadata": {},
     "output_type": "execute_result"
    }
   ],
   "source": [
    "math.sin(1)"
   ]
  },
  {
   "cell_type": "code",
   "execution_count": 24,
   "metadata": {},
   "outputs": [
    {
     "data": {
      "text/plain": [
       "'truncation error is 0.000003'"
      ]
     },
     "execution_count": 24,
     "metadata": {},
     "output_type": "execute_result"
    }
   ],
   "source": [
    "'truncation error is %f' %(abs(math.sin(1) - sinTaylorApprox(1)))"
   ]
  },
  {
   "cell_type": "code",
   "execution_count": null,
   "metadata": {},
   "outputs": [],
   "source": []
  },
  {
   "cell_type": "markdown",
   "metadata": {},
   "source": [
    "# Relative Error"
   ]
  },
  {
   "cell_type": "markdown",
   "metadata": {},
   "source": [
    "Say x = 15 and y = $\\sqrt{224}$"
   ]
  },
  {
   "cell_type": "code",
   "execution_count": 25,
   "metadata": {},
   "outputs": [],
   "source": [
    "x = 15.0\n",
    "y = 224**0.5"
   ]
  },
  {
   "cell_type": "markdown",
   "metadata": {},
   "source": [
    "x + y"
   ]
  },
  {
   "cell_type": "code",
   "execution_count": 26,
   "metadata": {},
   "outputs": [
    {
     "name": "stdout",
     "output_type": "stream",
     "text": [
      "29.966629547095764\n"
     ]
    }
   ],
   "source": [
    "xy_sum = x + y\n",
    "print(xy_sum)"
   ]
  },
  {
   "cell_type": "markdown",
   "metadata": {},
   "source": [
    "Let's approximate each value upto 5th decimal point"
   ]
  },
  {
   "cell_type": "code",
   "execution_count": 27,
   "metadata": {},
   "outputs": [],
   "source": [
    "x_approx = round(x, 5)\n",
    "y_approx = round(y, 5)"
   ]
  },
  {
   "cell_type": "markdown",
   "metadata": {},
   "source": [
    "## Relative Error in Sum"
   ]
  },
  {
   "cell_type": "code",
   "execution_count": 32,
   "metadata": {},
   "outputs": [
    {
     "name": "stdout",
     "output_type": "stream",
     "text": [
      "29.966630000000002\n"
     ]
    }
   ],
   "source": [
    "xy_sum_approx = x_approx + y_approx\n",
    "print(xy_sum_approx)"
   ]
  },
  {
   "cell_type": "code",
   "execution_count": 33,
   "metadata": {},
   "outputs": [
    {
     "name": "stdout",
     "output_type": "stream",
     "text": [
      "Absolute error of x 0.000000000\n",
      "Absolute error of y -0.000000453\n"
     ]
    }
   ],
   "source": [
    "print(\"Absolute error of x %0.9f\" %(x - x_approx))\n",
    "print(\"Absolute error of y %0.9f\" %(y - y_approx))"
   ]
  },
  {
   "cell_type": "code",
   "execution_count": 34,
   "metadata": {},
   "outputs": [
    {
     "name": "stdout",
     "output_type": "stream",
     "text": [
      "Relative error of x 0.000000000\n",
      "Relative error of y -0.000000030\n"
     ]
    }
   ],
   "source": [
    "print(\"Relative error of x %0.9f\" %((x - x_approx)/x))\n",
    "print(\"Relative error of y %0.9f\" %((y - y_approx)/y))"
   ]
  },
  {
   "cell_type": "code",
   "execution_count": 35,
   "metadata": {},
   "outputs": [
    {
     "name": "stdout",
     "output_type": "stream",
     "text": [
      "Absolute error of x + y -0.000000453\n",
      "Relative error of x + y -0.000000015\n"
     ]
    }
   ],
   "source": [
    "print(\"Absolute error of x + y %0.9f\" %(xy_sum - xy_sum_approx))\n",
    "print(\"Relative error of x + y %0.9f\" %((xy_sum - xy_sum_approx)/xy_sum))"
   ]
  },
  {
   "cell_type": "markdown",
   "metadata": {},
   "source": [
    "## Relative Error in Subtraction"
   ]
  },
  {
   "cell_type": "code",
   "execution_count": 36,
   "metadata": {},
   "outputs": [],
   "source": [
    "xy_sub = x - y\n",
    "xy_sub_approx = x_approx - y_approx"
   ]
  },
  {
   "cell_type": "code",
   "execution_count": 37,
   "metadata": {},
   "outputs": [
    {
     "name": "stdout",
     "output_type": "stream",
     "text": [
      "Absolute error of x - y 0.000000453\n",
      "Relative error of x - y 0.000013572\n"
     ]
    }
   ],
   "source": [
    "print(\"Absolute error of x - y %0.9f\" %(xy_sub - xy_sub_approx))\n",
    "print(\"Relative error of x - y %0.9f\" %((xy_sub - xy_sub_approx)/xy_sub))"
   ]
  },
  {
   "cell_type": "code",
   "execution_count": null,
   "metadata": {},
   "outputs": [],
   "source": []
  },
  {
   "cell_type": "markdown",
   "metadata": {},
   "source": [
    "## Relative Error in Product "
   ]
  },
  {
   "cell_type": "code",
   "execution_count": 38,
   "metadata": {},
   "outputs": [],
   "source": [
    "xy_prod = x * y\n",
    "xy_prod_approx = x_approx * y_approx"
   ]
  },
  {
   "cell_type": "code",
   "execution_count": 39,
   "metadata": {},
   "outputs": [
    {
     "name": "stdout",
     "output_type": "stream",
     "text": [
      "Absolute error of x*y -0.000006794\n",
      "Relative error of x*y -0.000000030\n"
     ]
    }
   ],
   "source": [
    "print(\"Absolute error of x*y %0.9f\" %(xy_prod - xy_prod_approx))\n",
    "print(\"Relative error of x*y %0.9f\" %((xy_prod - xy_prod_approx)/xy_prod))"
   ]
  },
  {
   "cell_type": "code",
   "execution_count": null,
   "metadata": {},
   "outputs": [],
   "source": []
  },
  {
   "cell_type": "markdown",
   "metadata": {},
   "source": [
    "## Relative Error in Division"
   ]
  },
  {
   "cell_type": "code",
   "execution_count": 40,
   "metadata": {},
   "outputs": [],
   "source": [
    "xy_div = x / y\n",
    "xy_div_approx = x_approx / y_approx"
   ]
  },
  {
   "cell_type": "code",
   "execution_count": 41,
   "metadata": {},
   "outputs": [
    {
     "name": "stdout",
     "output_type": "stream",
     "text": [
      "Absolute error of x/y 0.000000030\n",
      "Relative error of x/y 0.000000030\n"
     ]
    }
   ],
   "source": [
    "print(\"Absolute error of x/y %0.9f\" %(xy_div - xy_div_approx))\n",
    "print(\"Relative error of x/y %0.9f\" %((xy_div - xy_div_approx)/xy_div))"
   ]
  },
  {
   "cell_type": "code",
   "execution_count": null,
   "metadata": {},
   "outputs": [],
   "source": []
  },
  {
   "cell_type": "code",
   "execution_count": null,
   "metadata": {
    "collapsed": true
   },
   "outputs": [],
   "source": []
  },
  {
   "cell_type": "code",
   "execution_count": null,
   "metadata": {
    "collapsed": true
   },
   "outputs": [],
   "source": []
  }
 ],
 "metadata": {
  "kernelspec": {
   "display_name": "Python 3",
   "language": "python",
   "name": "python3"
  },
  "language_info": {
   "codemirror_mode": {
    "name": "ipython",
    "version": 3
   },
   "file_extension": ".py",
   "mimetype": "text/x-python",
   "name": "python",
   "nbconvert_exporter": "python",
   "pygments_lexer": "ipython3",
   "version": "3.6.5"
  }
 },
 "nbformat": 4,
 "nbformat_minor": 1
}
