{
 "cells": [
  {
   "cell_type": "code",
   "execution_count": 5,
   "metadata": {
    "collapsed": true
   },
   "outputs": [],
   "source": [
    "import numpy as np\n",
    "import numpy.linalg as nla\n",
    "import matplotlib.pyplot as plt"
   ]
  },
  {
   "cell_type": "code",
   "execution_count": 12,
   "metadata": {
    "collapsed": true
   },
   "outputs": [],
   "source": [
    "%matplotlib inline"
   ]
  },
  {
   "cell_type": "markdown",
   "metadata": {},
   "source": [
    "# Householder transformation"
   ]
  },
  {
   "cell_type": "code",
   "execution_count": 182,
   "metadata": {
    "collapsed": true
   },
   "outputs": [],
   "source": [
    "def Householder(A):\n",
    "    m,n = A.shape\n",
    "    R = A\n",
    "    Q = np.eye(m)\n",
    "\n",
    "    for j in range(n):\n",
    "        x = R[j:,j]\n",
    "        e_1 = np.zeros(len(x))\n",
    "        e_1[0] = 1\n",
    "        v_k = np.sign(x[0])*nla.norm(x)*e_1+x\n",
    "        v_k = v_k/nla.norm(v_k) # normalize the reflection vector\n",
    "\n",
    "        # Form of Householder transformation is H = I - 2(vv^t)/(v^tv)\n",
    "        # R[j:, :]H Will eliminate all subdiagonal elements\n",
    "        # Hence R[j:, :]H = R[j:, :] - R[j:, :]*2(vv^t)/(v^tv)\n",
    "        R[j:, :] = R[j:, :] - 2* np.outer(v_k, v_k).dot(R[j:, :])\n",
    "        Q[:, j:] = Q[:, j:] - 2 * Q[:, j:].dot(np.outer(v_k, v_k))\n",
    "    \n",
    "    return(Q,R)\n",
    "    "
   ]
  },
  {
   "cell_type": "code",
   "execution_count": 183,
   "metadata": {
    "collapsed": false
   },
   "outputs": [
    {
     "name": "stdout",
     "output_type": "stream",
     "text": [
      "37.7572925586\n",
      "[[-0.29986176 -0.45548197  0.72189882  0.4260061 ]\n",
      " [-0.39687586 -0.16662497  0.24300203 -0.86929609]\n",
      " [-0.81403649 -0.07202495 -0.52451613  0.23883014]\n",
      " [-0.29986176  0.87154157  0.38038788  0.07617926]] [[ -1.13385581e+00  -3.60998282e-01  -2.95099251e+00   1.01071052e+00]\n",
      " [  2.21424777e-17  -6.40531217e-01  -4.28857747e-01   1.36816497e-01]\n",
      " [ -1.07170808e-16  -2.61264017e-17  -1.08079798e+00   2.01973547e+00]\n",
      " [ -5.85795884e-17   1.07904415e-16   0.00000000e+00  -4.52232385e-01]]\n"
     ]
    }
   ],
   "source": [
    "A = np.array([[0.34,0.4,0.3,0.9],[0.45,0.25,0.98,0.46],[0.923,0.34,3,-2],[0.34,-0.45,0.1,0.55]])\n",
    "print(nla.cond(A))\n",
    "Q,R=Householder(A)\n",
    "print Q,R"
   ]
  },
  {
   "cell_type": "code",
   "execution_count": 184,
   "metadata": {
    "collapsed": false
   },
   "outputs": [
    {
     "name": "stdout",
     "output_type": "stream",
     "text": [
      "37.7572925586\n"
     ]
    }
   ],
   "source": [
    "print(nla.cond(R))"
   ]
  },
  {
   "cell_type": "code",
   "execution_count": 185,
   "metadata": {
    "collapsed": false
   },
   "outputs": [
    {
     "data": {
      "text/plain": [
       "array([[-0.29986176, -0.39687586, -0.81403649, -0.29986176],\n",
       "       [-0.45548197, -0.16662497, -0.07202495,  0.87154157],\n",
       "       [ 0.72189882,  0.24300203, -0.52451613,  0.38038788],\n",
       "       [ 0.4260061 , -0.86929609,  0.23883014,  0.07617926]])"
      ]
     },
     "execution_count": 185,
     "metadata": {},
     "output_type": "execute_result"
    }
   ],
   "source": [
    "np.transpose(Q)"
   ]
  },
  {
   "cell_type": "code",
   "execution_count": 186,
   "metadata": {
    "collapsed": false
   },
   "outputs": [
    {
     "data": {
      "text/plain": [
       "array([[-0.29986176, -0.39687586, -0.81403649, -0.29986176],\n",
       "       [-0.45548197, -0.16662497, -0.07202495,  0.87154157],\n",
       "       [ 0.72189882,  0.24300203, -0.52451613,  0.38038788],\n",
       "       [ 0.4260061 , -0.86929609,  0.23883014,  0.07617926]])"
      ]
     },
     "execution_count": 186,
     "metadata": {},
     "output_type": "execute_result"
    }
   ],
   "source": [
    "nla.inv(Q)"
   ]
  },
  {
   "cell_type": "code",
   "execution_count": 187,
   "metadata": {
    "collapsed": false
   },
   "outputs": [
    {
     "data": {
      "text/plain": [
       "array([[ -1.13385581e+00,  -3.60998282e-01,  -2.95099251e+00,\n",
       "          1.01071052e+00],\n",
       "       [  2.21424777e-17,  -6.40531217e-01,  -4.28857747e-01,\n",
       "          1.36816497e-01],\n",
       "       [ -1.07170808e-16,  -2.61264017e-17,  -1.08079798e+00,\n",
       "          2.01973547e+00],\n",
       "       [ -5.85795884e-17,   1.07904415e-16,   0.00000000e+00,\n",
       "         -4.52232385e-01]])"
      ]
     },
     "execution_count": 187,
     "metadata": {},
     "output_type": "execute_result"
    }
   ],
   "source": [
    "R"
   ]
  },
  {
   "cell_type": "code",
   "execution_count": null,
   "metadata": {
    "collapsed": true
   },
   "outputs": [],
   "source": []
  },
  {
   "cell_type": "markdown",
   "metadata": {},
   "source": [
    "# Root finding problem"
   ]
  },
  {
   "cell_type": "markdown",
   "metadata": {},
   "source": [
    "## Bisection method"
   ]
  },
  {
   "cell_type": "code",
   "execution_count": 18,
   "metadata": {
    "collapsed": false
   },
   "outputs": [],
   "source": [
    "def biSection(func, a,b,tol=0.00001):\n",
    "    thresHold_vec = []\n",
    "    midpoint = a+(b-a)/2.0\n",
    "    \n",
    "    while (b-a)/2.0 > tol:\n",
    "        thresHold_vec.append((b-a)/2.0)\n",
    "        if func(a)*func(midpoint) < 0:\n",
    "            b = midpoint\n",
    "        else :\n",
    "            a = midpoint\n",
    "        midpoint = a+(b-a)/2.0\n",
    "    return midpoint,thresHold_vec"
   ]
  },
  {
   "cell_type": "code",
   "execution_count": 19,
   "metadata": {
    "collapsed": true
   },
   "outputs": [],
   "source": [
    "def f(x):\n",
    "    y = x**2 - 4*np.sin(x)\n",
    "    return(y)"
   ]
  },
  {
   "cell_type": "code",
   "execution_count": 20,
   "metadata": {
    "collapsed": false
   },
   "outputs": [
    {
     "name": "stdout",
     "output_type": "stream",
     "text": [
      "1.93375396729\n"
     ]
    }
   ],
   "source": [
    "sol, vec = biSection(f, 1,3)\n",
    "print(sol)"
   ]
  },
  {
   "cell_type": "code",
   "execution_count": 23,
   "metadata": {
    "collapsed": false
   },
   "outputs": [
    {
     "data": {
      "text/plain": [
       "1.0811072055361137e-06"
      ]
     },
     "execution_count": 23,
     "metadata": {},
     "output_type": "execute_result"
    }
   ],
   "source": [
    "f(sol)"
   ]
  },
  {
   "cell_type": "code",
   "execution_count": 21,
   "metadata": {
    "collapsed": false
   },
   "outputs": [
    {
     "data": {
      "text/plain": [
       "[1.0,\n",
       " 0.5,\n",
       " 0.25,\n",
       " 0.125,\n",
       " 0.0625,\n",
       " 0.03125,\n",
       " 0.015625,\n",
       " 0.0078125,\n",
       " 0.00390625,\n",
       " 0.001953125,\n",
       " 0.0009765625,\n",
       " 0.00048828125,\n",
       " 0.000244140625,\n",
       " 0.0001220703125,\n",
       " 6.103515625e-05,\n",
       " 3.0517578125e-05,\n",
       " 1.52587890625e-05]"
      ]
     },
     "execution_count": 21,
     "metadata": {},
     "output_type": "execute_result"
    }
   ],
   "source": [
    "vec"
   ]
  },
  {
   "cell_type": "code",
   "execution_count": 22,
   "metadata": {
    "collapsed": false
   },
   "outputs": [
    {
     "data": {
      "image/png": "[encoded data removed]",
      "text/plain": [
       "<matplotlib.figure.Figure at 0x109e848d0>"
      ]
     },
     "metadata": {},
     "output_type": "display_data"
    }
   ],
   "source": [
    "plt.plot(vec)\n",
    "plt.ylabel('error')\n",
    "axes = plt.gca()\n",
    "plt.show()"
   ]
  },
  {
   "cell_type": "code",
   "execution_count": null,
   "metadata": {
    "collapsed": true
   },
   "outputs": [],
   "source": []
  }
 ],
 "metadata": {
  "kernelspec": {
   "display_name": "Python 2",
   "language": "python",
   "name": "python2"
  },
  "language_info": {
   "codemirror_mode": {
    "name": "ipython",
    "version": 2
   },
   "file_extension": ".py",
   "mimetype": "text/x-python",
   "name": "python",
   "nbconvert_exporter": "python",
   "pygments_lexer": "ipython2",
   "version": "2.7.11"
  }
 },
 "nbformat": 4,
 "nbformat_minor": 0
}
